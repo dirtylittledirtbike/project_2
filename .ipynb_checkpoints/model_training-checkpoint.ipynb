{
 "cells": [
  {
   "cell_type": "code",
   "execution_count": 1,
   "metadata": {},
   "outputs": [],
   "source": [
    "import numpy as np\n",
    "import pandas as pd\n",
    "import seaborn as sns\n",
    "\n",
    "import matplotlib.pyplot as plt\n",
    "from scipy import stats"
   ]
  },
  {
   "cell_type": "code",
   "execution_count": 2,
   "metadata": {
    "scrolled": true
   },
   "outputs": [
    {
     "data": {
      "text/html": [
       "<div>\n",
       "<style scoped>\n",
       "    .dataframe tbody tr th:only-of-type {\n",
       "        vertical-align: middle;\n",
       "    }\n",
       "\n",
       "    .dataframe tbody tr th {\n",
       "        vertical-align: top;\n",
       "    }\n",
       "\n",
       "    .dataframe thead th {\n",
       "        text-align: right;\n",
       "    }\n",
       "</style>\n",
       "<table border=\"1\" class=\"dataframe\">\n",
       "  <thead>\n",
       "    <tr style=\"text-align: right;\">\n",
       "      <th></th>\n",
       "      <th>lat</th>\n",
       "      <th>long</th>\n",
       "      <th>Type</th>\n",
       "      <th>Year built</th>\n",
       "      <th>Heating</th>\n",
       "      <th>Cooling</th>\n",
       "      <th>Parking</th>\n",
       "      <th>HOA</th>\n",
       "      <th>Total Price</th>\n",
       "      <th>Address</th>\n",
       "      <th>...</th>\n",
       "      <th>Bedrooms</th>\n",
       "      <th>Bathrooms</th>\n",
       "      <th>Full bathrooms</th>\n",
       "      <th>neighborhood_stats</th>\n",
       "      <th>URL</th>\n",
       "      <th>Half bathrooms</th>\n",
       "      <th>zip</th>\n",
       "      <th>median_nhv</th>\n",
       "      <th>Parking_Binned</th>\n",
       "      <th>address_clean</th>\n",
       "    </tr>\n",
       "  </thead>\n",
       "  <tbody>\n",
       "    <tr>\n",
       "      <th>0</th>\n",
       "      <td>41.798761</td>\n",
       "      <td>-87.588963</td>\n",
       "      <td>Condo</td>\n",
       "      <td>1910.0</td>\n",
       "      <td>Gas</td>\n",
       "      <td>Central</td>\n",
       "      <td>NaN</td>\n",
       "      <td>No</td>\n",
       "      <td>249900.0</td>\n",
       "      <td>5329 S Harper Ave #2, Chicago, IL 60615</td>\n",
       "      <td>...</td>\n",
       "      <td>2.0</td>\n",
       "      <td>2.0</td>\n",
       "      <td>2.0</td>\n",
       "      <td>Home values in Hyde Park have risen 0.6 % (↑) ...</td>\n",
       "      <td>https://www.zillow.com/homedetails/5329-S-Harp...</td>\n",
       "      <td>0</td>\n",
       "      <td>60615</td>\n",
       "      <td>396553</td>\n",
       "      <td>No</td>\n",
       "      <td>5329 S Harper Ave Chicago IL 60615</td>\n",
       "    </tr>\n",
       "    <tr>\n",
       "      <th>1</th>\n",
       "      <td>42.010591</td>\n",
       "      <td>-87.820290</td>\n",
       "      <td>Single Family</td>\n",
       "      <td>1957.0</td>\n",
       "      <td>Forced air</td>\n",
       "      <td>Central</td>\n",
       "      <td>2 spaces</td>\n",
       "      <td>Yes</td>\n",
       "      <td>399000.0</td>\n",
       "      <td>7144 N Ozark Ave, Chicago, IL 60631</td>\n",
       "      <td>...</td>\n",
       "      <td>2.0</td>\n",
       "      <td>2.0</td>\n",
       "      <td>2.0</td>\n",
       "      <td>Home values in Edison Park have risen 0.6 % (↑...</td>\n",
       "      <td>https://www.zillow.com/homedetails/7144-N-Ozar...</td>\n",
       "      <td>0</td>\n",
       "      <td>60631</td>\n",
       "      <td>356353</td>\n",
       "      <td>Yes</td>\n",
       "      <td>7144 N Ozark Ave, Chicago, IL 60631</td>\n",
       "    </tr>\n",
       "    <tr>\n",
       "      <th>2</th>\n",
       "      <td>42.006244</td>\n",
       "      <td>-87.672813</td>\n",
       "      <td>Condo</td>\n",
       "      <td>2007.0</td>\n",
       "      <td>Forced air</td>\n",
       "      <td>Central</td>\n",
       "      <td>NaN</td>\n",
       "      <td>No</td>\n",
       "      <td>169898.0</td>\n",
       "      <td>1673 W Farwell Ave APT 1S, Chicago, IL 60626</td>\n",
       "      <td>...</td>\n",
       "      <td>2.0</td>\n",
       "      <td>1.0</td>\n",
       "      <td>1.0</td>\n",
       "      <td>Home values in Rogers Park have risen 0.6 % (↑...</td>\n",
       "      <td>https://www.zillow.com/homedetails/1673-W-Farw...</td>\n",
       "      <td>0</td>\n",
       "      <td>60626</td>\n",
       "      <td>226102</td>\n",
       "      <td>No</td>\n",
       "      <td>1673 W Farwell Ave Chicago IL 60626</td>\n",
       "    </tr>\n",
       "    <tr>\n",
       "      <th>3</th>\n",
       "      <td>41.863777</td>\n",
       "      <td>-87.624549</td>\n",
       "      <td>Condo</td>\n",
       "      <td>2008.0</td>\n",
       "      <td>Gas</td>\n",
       "      <td>Central</td>\n",
       "      <td>2 spaces</td>\n",
       "      <td>No</td>\n",
       "      <td>489900.0</td>\n",
       "      <td>1400 S Michigan Ave APT 2203, Chicago, IL 60605</td>\n",
       "      <td>...</td>\n",
       "      <td>2.0</td>\n",
       "      <td>2.0</td>\n",
       "      <td>2.0</td>\n",
       "      <td>Home values in South Loop have risen 0.6 % (↑)...</td>\n",
       "      <td>https://www.zillow.com/homedetails/1400-S-Mich...</td>\n",
       "      <td>0</td>\n",
       "      <td>60605</td>\n",
       "      <td>376901</td>\n",
       "      <td>Yes</td>\n",
       "      <td>1400 S Michigan Ave Chicago IL 60605</td>\n",
       "    </tr>\n",
       "    <tr>\n",
       "      <th>4</th>\n",
       "      <td>41.700669</td>\n",
       "      <td>-87.676906</td>\n",
       "      <td>Single Family</td>\n",
       "      <td>1971.0</td>\n",
       "      <td>Forced air</td>\n",
       "      <td>Central</td>\n",
       "      <td>4 spaces</td>\n",
       "      <td>Yes</td>\n",
       "      <td>389000.0</td>\n",
       "      <td>10606 S Leavitt St, Chicago, IL 60643</td>\n",
       "      <td>...</td>\n",
       "      <td>3.0</td>\n",
       "      <td>3.0</td>\n",
       "      <td>2.0</td>\n",
       "      <td>Home values in Beverly have risen 0.6 % (↑) ov...</td>\n",
       "      <td>https://www.zillow.com/homedetails/10606-S-Lea...</td>\n",
       "      <td>1</td>\n",
       "      <td>60643</td>\n",
       "      <td>346385</td>\n",
       "      <td>Yes</td>\n",
       "      <td>10606 S Leavitt St, Chicago, IL 60643</td>\n",
       "    </tr>\n",
       "    <tr>\n",
       "      <th>...</th>\n",
       "      <td>...</td>\n",
       "      <td>...</td>\n",
       "      <td>...</td>\n",
       "      <td>...</td>\n",
       "      <td>...</td>\n",
       "      <td>...</td>\n",
       "      <td>...</td>\n",
       "      <td>...</td>\n",
       "      <td>...</td>\n",
       "      <td>...</td>\n",
       "      <td>...</td>\n",
       "      <td>...</td>\n",
       "      <td>...</td>\n",
       "      <td>...</td>\n",
       "      <td>...</td>\n",
       "      <td>...</td>\n",
       "      <td>...</td>\n",
       "      <td>...</td>\n",
       "      <td>...</td>\n",
       "      <td>...</td>\n",
       "      <td>...</td>\n",
       "    </tr>\n",
       "    <tr>\n",
       "      <th>2595</th>\n",
       "      <td>41.714684</td>\n",
       "      <td>-87.754065</td>\n",
       "      <td>Condo</td>\n",
       "      <td>2005.0</td>\n",
       "      <td>Forced air</td>\n",
       "      <td>Central</td>\n",
       "      <td>1 space</td>\n",
       "      <td>No</td>\n",
       "      <td>168999.0</td>\n",
       "      <td>9440 S 51st Ave APT 502, Oak Lawn, IL 60453</td>\n",
       "      <td>...</td>\n",
       "      <td>1.0</td>\n",
       "      <td>1.0</td>\n",
       "      <td>1.0</td>\n",
       "      <td>Home values in 60453 have risen 1.3 % (↑) over...</td>\n",
       "      <td>https://www.zillow.com/homedetails/9440-S-51st...</td>\n",
       "      <td>0</td>\n",
       "      <td>60453</td>\n",
       "      <td>210544</td>\n",
       "      <td>Yes</td>\n",
       "      <td>9440 S 51st Ave Oak Lawn IL 60453</td>\n",
       "    </tr>\n",
       "    <tr>\n",
       "      <th>2596</th>\n",
       "      <td>41.725069</td>\n",
       "      <td>-87.726728</td>\n",
       "      <td>Single Family</td>\n",
       "      <td>1973.0</td>\n",
       "      <td>Gas</td>\n",
       "      <td>Central</td>\n",
       "      <td>2 spaces</td>\n",
       "      <td>Yes</td>\n",
       "      <td>399900.0</td>\n",
       "      <td>9246 S Keeler Ave, Oak Lawn, IL 60453</td>\n",
       "      <td>...</td>\n",
       "      <td>4.0</td>\n",
       "      <td>3.0</td>\n",
       "      <td>3.0</td>\n",
       "      <td>Home values in 60453 have risen 1.3 % (↑) over...</td>\n",
       "      <td>https://www.zillow.com/homedetails/9246-S-Keel...</td>\n",
       "      <td>0</td>\n",
       "      <td>60453</td>\n",
       "      <td>210544</td>\n",
       "      <td>Yes</td>\n",
       "      <td>9246 S Keeler Ave, Oak Lawn, IL 60453</td>\n",
       "    </tr>\n",
       "    <tr>\n",
       "      <th>2597</th>\n",
       "      <td>41.734146</td>\n",
       "      <td>-87.760216</td>\n",
       "      <td>Condo</td>\n",
       "      <td>1973.0</td>\n",
       "      <td>Other</td>\n",
       "      <td>Refrigeration</td>\n",
       "      <td>1 space</td>\n",
       "      <td>No</td>\n",
       "      <td>94500.0</td>\n",
       "      <td>4929 W 87th St APT 3NW, Oak Lawn, IL 60453</td>\n",
       "      <td>...</td>\n",
       "      <td>2.0</td>\n",
       "      <td>1.0</td>\n",
       "      <td>1.0</td>\n",
       "      <td>Home values in 60453 have risen 1.3 % (↑) over...</td>\n",
       "      <td>https://www.zillow.com/homedetails/4929-W-87th...</td>\n",
       "      <td>0</td>\n",
       "      <td>60453</td>\n",
       "      <td>210544</td>\n",
       "      <td>Yes</td>\n",
       "      <td>4929 W 87th St Oak Lawn IL 60453</td>\n",
       "    </tr>\n",
       "    <tr>\n",
       "      <th>2598</th>\n",
       "      <td>41.714684</td>\n",
       "      <td>-87.754065</td>\n",
       "      <td>Single Family</td>\n",
       "      <td>1949.0</td>\n",
       "      <td>Forced air, Gas</td>\n",
       "      <td>Central</td>\n",
       "      <td>2 spaces</td>\n",
       "      <td>Yes</td>\n",
       "      <td>249900.0</td>\n",
       "      <td>9117 S 53rd Ct, Oak Lawn, IL 60453</td>\n",
       "      <td>...</td>\n",
       "      <td>3.0</td>\n",
       "      <td>2.0</td>\n",
       "      <td>1.0</td>\n",
       "      <td>Home values in 60453 have risen 1.3 % (↑) over...</td>\n",
       "      <td>https://www.zillow.com/homedetails/9117-S-53rd...</td>\n",
       "      <td>1</td>\n",
       "      <td>60453</td>\n",
       "      <td>210544</td>\n",
       "      <td>Yes</td>\n",
       "      <td>9117 S 53rd Ct, Oak Lawn, IL 60453</td>\n",
       "    </tr>\n",
       "    <tr>\n",
       "      <th>2599</th>\n",
       "      <td>41.702139</td>\n",
       "      <td>-87.720994</td>\n",
       "      <td>Condo</td>\n",
       "      <td>1983.0</td>\n",
       "      <td>Forced air</td>\n",
       "      <td>Central</td>\n",
       "      <td>2 spaces</td>\n",
       "      <td>No</td>\n",
       "      <td>124900.0</td>\n",
       "      <td>4003 W 105th St APT 3W, Oak Lawn, IL 60453</td>\n",
       "      <td>...</td>\n",
       "      <td>2.0</td>\n",
       "      <td>2.0</td>\n",
       "      <td>2.0</td>\n",
       "      <td>Home values in 60453 have risen 1.3 % (↑) over...</td>\n",
       "      <td>https://www.zillow.com/homedetails/4003-W-105t...</td>\n",
       "      <td>0</td>\n",
       "      <td>60453</td>\n",
       "      <td>210544</td>\n",
       "      <td>Yes</td>\n",
       "      <td>4003 W 105th St Oak Lawn IL 60453</td>\n",
       "    </tr>\n",
       "  </tbody>\n",
       "</table>\n",
       "<p>2600 rows × 22 columns</p>\n",
       "</div>"
      ],
      "text/plain": [
       "            lat       long           Type  Year built          Heating  \\\n",
       "0     41.798761 -87.588963          Condo      1910.0              Gas   \n",
       "1     42.010591 -87.820290  Single Family      1957.0       Forced air   \n",
       "2     42.006244 -87.672813          Condo      2007.0       Forced air   \n",
       "3     41.863777 -87.624549          Condo      2008.0              Gas   \n",
       "4     41.700669 -87.676906  Single Family      1971.0       Forced air   \n",
       "...         ...        ...            ...         ...              ...   \n",
       "2595  41.714684 -87.754065          Condo      2005.0       Forced air   \n",
       "2596  41.725069 -87.726728  Single Family      1973.0              Gas   \n",
       "2597  41.734146 -87.760216          Condo      1973.0            Other   \n",
       "2598  41.714684 -87.754065  Single Family      1949.0  Forced air, Gas   \n",
       "2599  41.702139 -87.720994          Condo      1983.0       Forced air   \n",
       "\n",
       "            Cooling   Parking  HOA  Total Price  \\\n",
       "0           Central       NaN   No     249900.0   \n",
       "1           Central  2 spaces  Yes     399000.0   \n",
       "2           Central       NaN   No     169898.0   \n",
       "3           Central  2 spaces   No     489900.0   \n",
       "4           Central  4 spaces  Yes     389000.0   \n",
       "...             ...       ...  ...          ...   \n",
       "2595        Central   1 space   No     168999.0   \n",
       "2596        Central  2 spaces  Yes     399900.0   \n",
       "2597  Refrigeration   1 space   No      94500.0   \n",
       "2598        Central  2 spaces  Yes     249900.0   \n",
       "2599        Central  2 spaces   No     124900.0   \n",
       "\n",
       "                                              Address  ...  Bedrooms  \\\n",
       "0             5329 S Harper Ave #2, Chicago, IL 60615  ...       2.0   \n",
       "1                 7144 N Ozark Ave, Chicago, IL 60631  ...       2.0   \n",
       "2        1673 W Farwell Ave APT 1S, Chicago, IL 60626  ...       2.0   \n",
       "3     1400 S Michigan Ave APT 2203, Chicago, IL 60605  ...       2.0   \n",
       "4               10606 S Leavitt St, Chicago, IL 60643  ...       3.0   \n",
       "...                                               ...  ...       ...   \n",
       "2595      9440 S 51st Ave APT 502, Oak Lawn, IL 60453  ...       1.0   \n",
       "2596            9246 S Keeler Ave, Oak Lawn, IL 60453  ...       4.0   \n",
       "2597       4929 W 87th St APT 3NW, Oak Lawn, IL 60453  ...       2.0   \n",
       "2598               9117 S 53rd Ct, Oak Lawn, IL 60453  ...       3.0   \n",
       "2599       4003 W 105th St APT 3W, Oak Lawn, IL 60453  ...       2.0   \n",
       "\n",
       "     Bathrooms  Full bathrooms  \\\n",
       "0          2.0             2.0   \n",
       "1          2.0             2.0   \n",
       "2          1.0             1.0   \n",
       "3          2.0             2.0   \n",
       "4          3.0             2.0   \n",
       "...        ...             ...   \n",
       "2595       1.0             1.0   \n",
       "2596       3.0             3.0   \n",
       "2597       1.0             1.0   \n",
       "2598       2.0             1.0   \n",
       "2599       2.0             2.0   \n",
       "\n",
       "                                     neighborhood_stats  \\\n",
       "0     Home values in Hyde Park have risen 0.6 % (↑) ...   \n",
       "1     Home values in Edison Park have risen 0.6 % (↑...   \n",
       "2     Home values in Rogers Park have risen 0.6 % (↑...   \n",
       "3     Home values in South Loop have risen 0.6 % (↑)...   \n",
       "4     Home values in Beverly have risen 0.6 % (↑) ov...   \n",
       "...                                                 ...   \n",
       "2595  Home values in 60453 have risen 1.3 % (↑) over...   \n",
       "2596  Home values in 60453 have risen 1.3 % (↑) over...   \n",
       "2597  Home values in 60453 have risen 1.3 % (↑) over...   \n",
       "2598  Home values in 60453 have risen 1.3 % (↑) over...   \n",
       "2599  Home values in 60453 have risen 1.3 % (↑) over...   \n",
       "\n",
       "                                                    URL Half bathrooms    zip  \\\n",
       "0     https://www.zillow.com/homedetails/5329-S-Harp...              0  60615   \n",
       "1     https://www.zillow.com/homedetails/7144-N-Ozar...              0  60631   \n",
       "2     https://www.zillow.com/homedetails/1673-W-Farw...              0  60626   \n",
       "3     https://www.zillow.com/homedetails/1400-S-Mich...              0  60605   \n",
       "4     https://www.zillow.com/homedetails/10606-S-Lea...              1  60643   \n",
       "...                                                 ...            ...    ...   \n",
       "2595  https://www.zillow.com/homedetails/9440-S-51st...              0  60453   \n",
       "2596  https://www.zillow.com/homedetails/9246-S-Keel...              0  60453   \n",
       "2597  https://www.zillow.com/homedetails/4929-W-87th...              0  60453   \n",
       "2598  https://www.zillow.com/homedetails/9117-S-53rd...              1  60453   \n",
       "2599  https://www.zillow.com/homedetails/4003-W-105t...              0  60453   \n",
       "\n",
       "      median_nhv  Parking_Binned                          address_clean  \n",
       "0         396553              No     5329 S Harper Ave Chicago IL 60615  \n",
       "1         356353             Yes    7144 N Ozark Ave, Chicago, IL 60631  \n",
       "2         226102              No    1673 W Farwell Ave Chicago IL 60626  \n",
       "3         376901             Yes   1400 S Michigan Ave Chicago IL 60605  \n",
       "4         346385             Yes  10606 S Leavitt St, Chicago, IL 60643  \n",
       "...          ...             ...                                    ...  \n",
       "2595      210544             Yes      9440 S 51st Ave Oak Lawn IL 60453  \n",
       "2596      210544             Yes  9246 S Keeler Ave, Oak Lawn, IL 60453  \n",
       "2597      210544             Yes       4929 W 87th St Oak Lawn IL 60453  \n",
       "2598      210544             Yes     9117 S 53rd Ct, Oak Lawn, IL 60453  \n",
       "2599      210544             Yes      4003 W 105th St Oak Lawn IL 60453  \n",
       "\n",
       "[2600 rows x 22 columns]"
      ]
     },
     "execution_count": 2,
     "metadata": {},
     "output_type": "execute_result"
    }
   ],
   "source": [
    "df = pd.read_csv('/Users/collinswestnedge/programming/Metis_Online/project_02/clean_data/all_neighborhoods_clean.csv')\n",
    "df.drop(columns=['Unnamed: 0'], inplace=True)\n",
    "df"
   ]
  },
  {
   "cell_type": "code",
   "execution_count": 3,
   "metadata": {
    "scrolled": true
   },
   "outputs": [
    {
     "data": {
      "text/plain": [
       "(array([  9.,  62., 153., 372., 210., 282., 431., 265., 361., 455.]),\n",
       " array([1861. , 1876.9, 1892.8, 1908.7, 1924.6, 1940.5, 1956.4, 1972.3,\n",
       "        1988.2, 2004.1, 2020. ]),\n",
       " <BarContainer object of 10 artists>)"
      ]
     },
     "execution_count": 3,
     "metadata": {},
     "output_type": "execute_result"
    },
    {
     "data": {
      "image/png": "[encoded data removed]",
      "text/plain": [
       "<Figure size 432x288 with 1 Axes>"
      ]
     },
     "metadata": {
      "needs_background": "light"
     },
     "output_type": "display_data"
    }
   ],
   "source": [
    "plt.hist(df['Year built'])"
   ]
  },
  {
   "cell_type": "code",
   "execution_count": 4,
   "metadata": {},
   "outputs": [],
   "source": [
    "bin_labels_5 = [1, 2, 3, 4, 5]\n",
    "df['year_built_binned'] = pd.qcut(df['Year built'],\n",
    "                              q=[0, .2, .4, .6, .8, 1],\n",
    "                              labels=bin_labels_5)"
   ]
  },
  {
   "cell_type": "code",
   "execution_count": 5,
   "metadata": {
    "scrolled": true
   },
   "outputs": [
    {
     "data": {
      "text/plain": [
       "array([1910., 1897., 1920., 1885., 1902., 1890., 1918., 1895., 1898.,\n",
       "       1913., 1916., 1922., 1911., 1905., 1900., 1906., 1908., 1921.,\n",
       "       1901., 1870., 1886., 1892., 1915., 1914., 1887., 1912., 1917.,\n",
       "       1899., 1919., 1909., 1880., 1891., 1903., 1884., 1893., 1904.,\n",
       "       1876., 1879., 1888., 1875., 1894., 1896., 1874., 1907., 1889.,\n",
       "       1867., 1861., 1869., 1868.])"
      ]
     },
     "execution_count": 5,
     "metadata": {},
     "output_type": "execute_result"
    }
   ],
   "source": [
    "df[df['year_built_binned'] == 1]['Year built'].unique()"
   ]
  },
  {
   "cell_type": "code",
   "execution_count": 6,
   "metadata": {},
   "outputs": [
    {
     "data": {
      "text/plain": [
       "0       1\n",
       "1       3\n",
       "2       5\n",
       "3       5\n",
       "4       3\n",
       "       ..\n",
       "2595    5\n",
       "2596    3\n",
       "2597    3\n",
       "2598    2\n",
       "2599    4\n",
       "Name: year_built_binned, Length: 2600, dtype: category\n",
       "Categories (5, int64): [1 < 2 < 3 < 4 < 5]"
      ]
     },
     "execution_count": 6,
     "metadata": {},
     "output_type": "execute_result"
    }
   ],
   "source": [
    "df['year_built_binned']"
   ]
  },
  {
   "cell_type": "code",
   "execution_count": 7,
   "metadata": {},
   "outputs": [],
   "source": [
    "upper = df['Total Price'].quantile(.02)\n",
    "lower = df['Total Price'].quantile(.98)\n",
    "df = df[df['Total Price'].between(upper,lower)].copy()\n",
    "# df.drop(columns=['zip'],inplace=True)"
   ]
  },
  {
   "cell_type": "code",
   "execution_count": 8,
   "metadata": {
    "scrolled": false
   },
   "outputs": [
    {
     "data": {
      "image/png": "[encoded data removed]",
      "text/plain": [
       "<Figure size 432x288 with 1 Axes>"
      ]
     },
     "metadata": {
      "needs_background": "light"
     },
     "output_type": "display_data"
    }
   ],
   "source": [
    "plt.scatter(df['median_nhv'], df['Total Price'])\n",
    "plt.show()"
   ]
  },
  {
   "cell_type": "code",
   "execution_count": 9,
   "metadata": {},
   "outputs": [
    {
     "data": {
      "image/png": "[encoded data removed]",
      "text/plain": [
       "<Figure size 432x288 with 1 Axes>"
      ]
     },
     "metadata": {
      "needs_background": "light"
     },
     "output_type": "display_data"
    },
    {
     "data": {
      "image/png": "[encoded data removed]",
      "text/plain": [
       "<Figure size 432x288 with 1 Axes>"
      ]
     },
     "metadata": {
      "needs_background": "light"
     },
     "output_type": "display_data"
    },
    {
     "data": {
      "image/png": "[encoded data removed]",
      "text/plain": [
       "<Figure size 432x288 with 1 Axes>"
      ]
     },
     "metadata": {
      "needs_background": "light"
     },
     "output_type": "display_data"
    },
    {
     "data": {
      "image/png": "[encoded data removed]",
      "text/plain": [
       "<Figure size 432x288 with 1 Axes>"
      ]
     },
     "metadata": {
      "needs_background": "light"
     },
     "output_type": "display_data"
    },
    {
     "data": {
      "image/png": "[encoded data removed]",
      "text/plain": [
       "<Figure size 432x288 with 1 Axes>"
      ]
     },
     "metadata": {
      "needs_background": "light"
     },
     "output_type": "display_data"
    },
    {
     "data": {
      "image/png": "[encoded data removed]",
      "text/plain": [
       "<Figure size 432x288 with 1 Axes>"
      ]
     },
     "metadata": {
      "needs_background": "light"
     },
     "output_type": "display_data"
    },
    {
     "data": {
      "image/png": "[encoded data removed]",
      "text/plain": [
       "<Figure size 432x288 with 1 Axes>"
      ]
     },
     "metadata": {
      "needs_background": "light"
     },
     "output_type": "display_data"
    },
    {
     "data": {
      "image/png": "[encoded data removed]",
      "text/plain": [
       "<Figure size 432x288 with 1 Axes>"
      ]
     },
     "metadata": {
      "needs_background": "light"
     },
     "output_type": "display_data"
    },
    {
     "data": {
      "image/png": "[encoded data removed]",
      "text/plain": [
       "<Figure size 432x288 with 1 Axes>"
      ]
     },
     "metadata": {
      "needs_background": "light"
     },
     "output_type": "display_data"
    },
    {
     "data": {
      "image/png": "[encoded data removed]",
      "text/plain": [
       "<Figure size 432x288 with 1 Axes>"
      ]
     },
     "metadata": {
      "needs_background": "light"
     },
     "output_type": "display_data"
    },
    {
     "data": {
      "image/png": "[encoded data removed]",
      "text/plain": [
       "<Figure size 432x288 with 1 Axes>"
      ]
     },
     "metadata": {
      "needs_background": "light"
     },
     "output_type": "display_data"
    }
   ],
   "source": [
    "for col in df.select_dtypes(['float','int']).columns.to_list():\n",
    "    plt.scatter(df[col], df['Total Price'])\n",
    "    plt.xlabel(col)\n",
    "    plt.ylabel('Target')\n",
    "    plt.show()"
   ]
  },
  {
   "cell_type": "code",
   "execution_count": 10,
   "metadata": {},
   "outputs": [],
   "source": [
    "df['zip'] = df.zip.astype(str)"
   ]
  },
  {
   "cell_type": "code",
   "execution_count": 11,
   "metadata": {
    "scrolled": false
   },
   "outputs": [],
   "source": [
    "continous_data = df.select_dtypes(['float', 'int']).copy()\n",
    "continous_data['year_built_binned'] = df['year_built_binned']"
   ]
  },
  {
   "cell_type": "code",
   "execution_count": 12,
   "metadata": {},
   "outputs": [
    {
     "data": {
      "text/html": [
       "<div>\n",
       "<style scoped>\n",
       "    .dataframe tbody tr th:only-of-type {\n",
       "        vertical-align: middle;\n",
       "    }\n",
       "\n",
       "    .dataframe tbody tr th {\n",
       "        vertical-align: top;\n",
       "    }\n",
       "\n",
       "    .dataframe thead th {\n",
       "        text-align: right;\n",
       "    }\n",
       "</style>\n",
       "<table border=\"1\" class=\"dataframe\">\n",
       "  <thead>\n",
       "    <tr style=\"text-align: right;\">\n",
       "      <th></th>\n",
       "      <th>lat</th>\n",
       "      <th>long</th>\n",
       "      <th>Year built</th>\n",
       "      <th>Total Price</th>\n",
       "      <th>Square Feet</th>\n",
       "      <th>Bedrooms</th>\n",
       "      <th>Bathrooms</th>\n",
       "      <th>Full bathrooms</th>\n",
       "      <th>Half bathrooms</th>\n",
       "      <th>median_nhv</th>\n",
       "      <th>year_built_binned</th>\n",
       "    </tr>\n",
       "  </thead>\n",
       "  <tbody>\n",
       "    <tr>\n",
       "      <th>0</th>\n",
       "      <td>41.798761</td>\n",
       "      <td>-87.588963</td>\n",
       "      <td>1910.0</td>\n",
       "      <td>249900.0</td>\n",
       "      <td>1000.0</td>\n",
       "      <td>2.0</td>\n",
       "      <td>2.0</td>\n",
       "      <td>2.0</td>\n",
       "      <td>0</td>\n",
       "      <td>396553</td>\n",
       "      <td>1</td>\n",
       "    </tr>\n",
       "    <tr>\n",
       "      <th>1</th>\n",
       "      <td>42.010591</td>\n",
       "      <td>-87.820290</td>\n",
       "      <td>1957.0</td>\n",
       "      <td>399000.0</td>\n",
       "      <td>1224.0</td>\n",
       "      <td>2.0</td>\n",
       "      <td>2.0</td>\n",
       "      <td>2.0</td>\n",
       "      <td>0</td>\n",
       "      <td>356353</td>\n",
       "      <td>3</td>\n",
       "    </tr>\n",
       "    <tr>\n",
       "      <th>2</th>\n",
       "      <td>42.006244</td>\n",
       "      <td>-87.672813</td>\n",
       "      <td>2007.0</td>\n",
       "      <td>169898.0</td>\n",
       "      <td>775.0</td>\n",
       "      <td>2.0</td>\n",
       "      <td>1.0</td>\n",
       "      <td>1.0</td>\n",
       "      <td>0</td>\n",
       "      <td>226102</td>\n",
       "      <td>5</td>\n",
       "    </tr>\n",
       "    <tr>\n",
       "      <th>3</th>\n",
       "      <td>41.863777</td>\n",
       "      <td>-87.624549</td>\n",
       "      <td>2008.0</td>\n",
       "      <td>489900.0</td>\n",
       "      <td>1273.0</td>\n",
       "      <td>2.0</td>\n",
       "      <td>2.0</td>\n",
       "      <td>2.0</td>\n",
       "      <td>0</td>\n",
       "      <td>376901</td>\n",
       "      <td>5</td>\n",
       "    </tr>\n",
       "    <tr>\n",
       "      <th>4</th>\n",
       "      <td>41.700669</td>\n",
       "      <td>-87.676906</td>\n",
       "      <td>1971.0</td>\n",
       "      <td>389000.0</td>\n",
       "      <td>2179.0</td>\n",
       "      <td>3.0</td>\n",
       "      <td>3.0</td>\n",
       "      <td>2.0</td>\n",
       "      <td>1</td>\n",
       "      <td>346385</td>\n",
       "      <td>3</td>\n",
       "    </tr>\n",
       "    <tr>\n",
       "      <th>...</th>\n",
       "      <td>...</td>\n",
       "      <td>...</td>\n",
       "      <td>...</td>\n",
       "      <td>...</td>\n",
       "      <td>...</td>\n",
       "      <td>...</td>\n",
       "      <td>...</td>\n",
       "      <td>...</td>\n",
       "      <td>...</td>\n",
       "      <td>...</td>\n",
       "      <td>...</td>\n",
       "    </tr>\n",
       "    <tr>\n",
       "      <th>2595</th>\n",
       "      <td>41.714684</td>\n",
       "      <td>-87.754065</td>\n",
       "      <td>2005.0</td>\n",
       "      <td>168999.0</td>\n",
       "      <td>1052.0</td>\n",
       "      <td>1.0</td>\n",
       "      <td>1.0</td>\n",
       "      <td>1.0</td>\n",
       "      <td>0</td>\n",
       "      <td>210544</td>\n",
       "      <td>5</td>\n",
       "    </tr>\n",
       "    <tr>\n",
       "      <th>2596</th>\n",
       "      <td>41.725069</td>\n",
       "      <td>-87.726728</td>\n",
       "      <td>1973.0</td>\n",
       "      <td>399900.0</td>\n",
       "      <td>3400.0</td>\n",
       "      <td>4.0</td>\n",
       "      <td>3.0</td>\n",
       "      <td>3.0</td>\n",
       "      <td>0</td>\n",
       "      <td>210544</td>\n",
       "      <td>3</td>\n",
       "    </tr>\n",
       "    <tr>\n",
       "      <th>2597</th>\n",
       "      <td>41.734146</td>\n",
       "      <td>-87.760216</td>\n",
       "      <td>1973.0</td>\n",
       "      <td>94500.0</td>\n",
       "      <td>852.0</td>\n",
       "      <td>2.0</td>\n",
       "      <td>1.0</td>\n",
       "      <td>1.0</td>\n",
       "      <td>0</td>\n",
       "      <td>210544</td>\n",
       "      <td>3</td>\n",
       "    </tr>\n",
       "    <tr>\n",
       "      <th>2598</th>\n",
       "      <td>41.714684</td>\n",
       "      <td>-87.754065</td>\n",
       "      <td>1949.0</td>\n",
       "      <td>249900.0</td>\n",
       "      <td>1343.0</td>\n",
       "      <td>3.0</td>\n",
       "      <td>2.0</td>\n",
       "      <td>1.0</td>\n",
       "      <td>1</td>\n",
       "      <td>210544</td>\n",
       "      <td>2</td>\n",
       "    </tr>\n",
       "    <tr>\n",
       "      <th>2599</th>\n",
       "      <td>41.702139</td>\n",
       "      <td>-87.720994</td>\n",
       "      <td>1983.0</td>\n",
       "      <td>124900.0</td>\n",
       "      <td>1000.0</td>\n",
       "      <td>2.0</td>\n",
       "      <td>2.0</td>\n",
       "      <td>2.0</td>\n",
       "      <td>0</td>\n",
       "      <td>210544</td>\n",
       "      <td>4</td>\n",
       "    </tr>\n",
       "  </tbody>\n",
       "</table>\n",
       "<p>2497 rows × 11 columns</p>\n",
       "</div>"
      ],
      "text/plain": [
       "            lat       long  Year built  Total Price  Square Feet  Bedrooms  \\\n",
       "0     41.798761 -87.588963      1910.0     249900.0       1000.0       2.0   \n",
       "1     42.010591 -87.820290      1957.0     399000.0       1224.0       2.0   \n",
       "2     42.006244 -87.672813      2007.0     169898.0        775.0       2.0   \n",
       "3     41.863777 -87.624549      2008.0     489900.0       1273.0       2.0   \n",
       "4     41.700669 -87.676906      1971.0     389000.0       2179.0       3.0   \n",
       "...         ...        ...         ...          ...          ...       ...   \n",
       "2595  41.714684 -87.754065      2005.0     168999.0       1052.0       1.0   \n",
       "2596  41.725069 -87.726728      1973.0     399900.0       3400.0       4.0   \n",
       "2597  41.734146 -87.760216      1973.0      94500.0        852.0       2.0   \n",
       "2598  41.714684 -87.754065      1949.0     249900.0       1343.0       3.0   \n",
       "2599  41.702139 -87.720994      1983.0     124900.0       1000.0       2.0   \n",
       "\n",
       "      Bathrooms  Full bathrooms  Half bathrooms  median_nhv year_built_binned  \n",
       "0           2.0             2.0               0      396553                 1  \n",
       "1           2.0             2.0               0      356353                 3  \n",
       "2           1.0             1.0               0      226102                 5  \n",
       "3           2.0             2.0               0      376901                 5  \n",
       "4           3.0             2.0               1      346385                 3  \n",
       "...         ...             ...             ...         ...               ...  \n",
       "2595        1.0             1.0               0      210544                 5  \n",
       "2596        3.0             3.0               0      210544                 3  \n",
       "2597        1.0             1.0               0      210544                 3  \n",
       "2598        2.0             1.0               1      210544                 2  \n",
       "2599        2.0             2.0               0      210544                 4  \n",
       "\n",
       "[2497 rows x 11 columns]"
      ]
     },
     "execution_count": 12,
     "metadata": {},
     "output_type": "execute_result"
    }
   ],
   "source": [
    "continous_data"
   ]
  },
  {
   "cell_type": "code",
   "execution_count": 13,
   "metadata": {
    "scrolled": true
   },
   "outputs": [],
   "source": [
    "categorical_data = df.select_dtypes(['object']).copy()"
   ]
  },
  {
   "cell_type": "code",
   "execution_count": 14,
   "metadata": {
    "scrolled": true
   },
   "outputs": [
    {
     "data": {
      "text/plain": [
       "['Type',\n",
       " 'Heating',\n",
       " 'Cooling',\n",
       " 'Parking',\n",
       " 'HOA',\n",
       " 'Address',\n",
       " 'New construction',\n",
       " 'neighborhood_stats',\n",
       " 'URL',\n",
       " 'zip',\n",
       " 'Parking_Binned',\n",
       " 'address_clean']"
      ]
     },
     "execution_count": 14,
     "metadata": {},
     "output_type": "execute_result"
    }
   ],
   "source": [
    "categorical_data.columns.to_list()"
   ]
  },
  {
   "cell_type": "code",
   "execution_count": 15,
   "metadata": {},
   "outputs": [],
   "source": [
    "# con['zip'] = df.zip.astype(str)"
   ]
  },
  {
   "cell_type": "code",
   "execution_count": 16,
   "metadata": {
    "scrolled": true
   },
   "outputs": [
    {
     "data": {
      "text/html": [
       "<div>\n",
       "<style scoped>\n",
       "    .dataframe tbody tr th:only-of-type {\n",
       "        vertical-align: middle;\n",
       "    }\n",
       "\n",
       "    .dataframe tbody tr th {\n",
       "        vertical-align: top;\n",
       "    }\n",
       "\n",
       "    .dataframe thead th {\n",
       "        text-align: right;\n",
       "    }\n",
       "</style>\n",
       "<table border=\"1\" class=\"dataframe\">\n",
       "  <thead>\n",
       "    <tr style=\"text-align: right;\">\n",
       "      <th></th>\n",
       "      <th>Type_Multi Family</th>\n",
       "      <th>Type_Multiple Occupancy</th>\n",
       "      <th>Type_Single Family</th>\n",
       "      <th>Type_Townhouse</th>\n",
       "      <th>Cooling_None</th>\n",
       "      <th>Cooling_Other</th>\n",
       "      <th>Cooling_Refrigeration</th>\n",
       "      <th>Cooling_Wall</th>\n",
       "      <th>HOA_Yes</th>\n",
       "      <th>Parking_Binned_Yes</th>\n",
       "      <th>New construction_ Yes</th>\n",
       "    </tr>\n",
       "  </thead>\n",
       "  <tbody>\n",
       "    <tr>\n",
       "      <th>0</th>\n",
       "      <td>0</td>\n",
       "      <td>0</td>\n",
       "      <td>0</td>\n",
       "      <td>0</td>\n",
       "      <td>0</td>\n",
       "      <td>0</td>\n",
       "      <td>0</td>\n",
       "      <td>0</td>\n",
       "      <td>0</td>\n",
       "      <td>0</td>\n",
       "      <td>0</td>\n",
       "    </tr>\n",
       "    <tr>\n",
       "      <th>1</th>\n",
       "      <td>0</td>\n",
       "      <td>0</td>\n",
       "      <td>1</td>\n",
       "      <td>0</td>\n",
       "      <td>0</td>\n",
       "      <td>0</td>\n",
       "      <td>0</td>\n",
       "      <td>0</td>\n",
       "      <td>1</td>\n",
       "      <td>1</td>\n",
       "      <td>0</td>\n",
       "    </tr>\n",
       "    <tr>\n",
       "      <th>2</th>\n",
       "      <td>0</td>\n",
       "      <td>0</td>\n",
       "      <td>0</td>\n",
       "      <td>0</td>\n",
       "      <td>0</td>\n",
       "      <td>0</td>\n",
       "      <td>0</td>\n",
       "      <td>0</td>\n",
       "      <td>0</td>\n",
       "      <td>0</td>\n",
       "      <td>0</td>\n",
       "    </tr>\n",
       "    <tr>\n",
       "      <th>3</th>\n",
       "      <td>0</td>\n",
       "      <td>0</td>\n",
       "      <td>0</td>\n",
       "      <td>0</td>\n",
       "      <td>0</td>\n",
       "      <td>0</td>\n",
       "      <td>0</td>\n",
       "      <td>0</td>\n",
       "      <td>0</td>\n",
       "      <td>1</td>\n",
       "      <td>0</td>\n",
       "    </tr>\n",
       "    <tr>\n",
       "      <th>4</th>\n",
       "      <td>0</td>\n",
       "      <td>0</td>\n",
       "      <td>1</td>\n",
       "      <td>0</td>\n",
       "      <td>0</td>\n",
       "      <td>0</td>\n",
       "      <td>0</td>\n",
       "      <td>0</td>\n",
       "      <td>1</td>\n",
       "      <td>1</td>\n",
       "      <td>0</td>\n",
       "    </tr>\n",
       "    <tr>\n",
       "      <th>...</th>\n",
       "      <td>...</td>\n",
       "      <td>...</td>\n",
       "      <td>...</td>\n",
       "      <td>...</td>\n",
       "      <td>...</td>\n",
       "      <td>...</td>\n",
       "      <td>...</td>\n",
       "      <td>...</td>\n",
       "      <td>...</td>\n",
       "      <td>...</td>\n",
       "      <td>...</td>\n",
       "    </tr>\n",
       "    <tr>\n",
       "      <th>2595</th>\n",
       "      <td>0</td>\n",
       "      <td>0</td>\n",
       "      <td>0</td>\n",
       "      <td>0</td>\n",
       "      <td>0</td>\n",
       "      <td>0</td>\n",
       "      <td>0</td>\n",
       "      <td>0</td>\n",
       "      <td>0</td>\n",
       "      <td>1</td>\n",
       "      <td>0</td>\n",
       "    </tr>\n",
       "    <tr>\n",
       "      <th>2596</th>\n",
       "      <td>0</td>\n",
       "      <td>0</td>\n",
       "      <td>1</td>\n",
       "      <td>0</td>\n",
       "      <td>0</td>\n",
       "      <td>0</td>\n",
       "      <td>0</td>\n",
       "      <td>0</td>\n",
       "      <td>1</td>\n",
       "      <td>1</td>\n",
       "      <td>0</td>\n",
       "    </tr>\n",
       "    <tr>\n",
       "      <th>2597</th>\n",
       "      <td>0</td>\n",
       "      <td>0</td>\n",
       "      <td>0</td>\n",
       "      <td>0</td>\n",
       "      <td>0</td>\n",
       "      <td>0</td>\n",
       "      <td>1</td>\n",
       "      <td>0</td>\n",
       "      <td>0</td>\n",
       "      <td>1</td>\n",
       "      <td>0</td>\n",
       "    </tr>\n",
       "    <tr>\n",
       "      <th>2598</th>\n",
       "      <td>0</td>\n",
       "      <td>0</td>\n",
       "      <td>1</td>\n",
       "      <td>0</td>\n",
       "      <td>0</td>\n",
       "      <td>0</td>\n",
       "      <td>0</td>\n",
       "      <td>0</td>\n",
       "      <td>1</td>\n",
       "      <td>1</td>\n",
       "      <td>0</td>\n",
       "    </tr>\n",
       "    <tr>\n",
       "      <th>2599</th>\n",
       "      <td>0</td>\n",
       "      <td>0</td>\n",
       "      <td>0</td>\n",
       "      <td>0</td>\n",
       "      <td>0</td>\n",
       "      <td>0</td>\n",
       "      <td>0</td>\n",
       "      <td>0</td>\n",
       "      <td>0</td>\n",
       "      <td>1</td>\n",
       "      <td>0</td>\n",
       "    </tr>\n",
       "  </tbody>\n",
       "</table>\n",
       "<p>2497 rows × 11 columns</p>\n",
       "</div>"
      ],
      "text/plain": [
       "      Type_Multi Family  Type_Multiple Occupancy  Type_Single Family  \\\n",
       "0                     0                        0                   0   \n",
       "1                     0                        0                   1   \n",
       "2                     0                        0                   0   \n",
       "3                     0                        0                   0   \n",
       "4                     0                        0                   1   \n",
       "...                 ...                      ...                 ...   \n",
       "2595                  0                        0                   0   \n",
       "2596                  0                        0                   1   \n",
       "2597                  0                        0                   0   \n",
       "2598                  0                        0                   1   \n",
       "2599                  0                        0                   0   \n",
       "\n",
       "      Type_Townhouse  Cooling_None  Cooling_Other  Cooling_Refrigeration  \\\n",
       "0                  0             0              0                      0   \n",
       "1                  0             0              0                      0   \n",
       "2                  0             0              0                      0   \n",
       "3                  0             0              0                      0   \n",
       "4                  0             0              0                      0   \n",
       "...              ...           ...            ...                    ...   \n",
       "2595               0             0              0                      0   \n",
       "2596               0             0              0                      0   \n",
       "2597               0             0              0                      1   \n",
       "2598               0             0              0                      0   \n",
       "2599               0             0              0                      0   \n",
       "\n",
       "      Cooling_Wall  HOA_Yes  Parking_Binned_Yes  New construction_ Yes  \n",
       "0                0        0                   0                      0  \n",
       "1                0        1                   1                      0  \n",
       "2                0        0                   0                      0  \n",
       "3                0        0                   1                      0  \n",
       "4                0        1                   1                      0  \n",
       "...            ...      ...                 ...                    ...  \n",
       "2595             0        0                   1                      0  \n",
       "2596             0        1                   1                      0  \n",
       "2597             0        0                   1                      0  \n",
       "2598             0        1                   1                      0  \n",
       "2599             0        0                   1                      0  \n",
       "\n",
       "[2497 rows x 11 columns]"
      ]
     },
     "execution_count": 16,
     "metadata": {},
     "output_type": "execute_result"
    }
   ],
   "source": [
    "temp_df = pd.get_dummies(categorical_data[['Type',\n",
    "                                           'Cooling',\n",
    "                                           'HOA',\n",
    "                                           'Parking_Binned',\n",
    "                                           'New construction']], drop_first=True)\n",
    "temp_df"
   ]
  },
  {
   "cell_type": "code",
   "execution_count": 17,
   "metadata": {
    "scrolled": false
   },
   "outputs": [
    {
     "data": {
      "text/plain": [
       "Square Feet                348\n",
       "lat                          2\n",
       "long                         2\n",
       "Parking_Binned_Yes           0\n",
       "Year built                   0\n",
       "Total Price                  0\n",
       "Bedrooms                     0\n",
       "Bathrooms                    0\n",
       "Full bathrooms               0\n",
       "Half bathrooms               0\n",
       "median_nhv                   0\n",
       "New construction_ Yes        0\n",
       "Type_Multi Family            0\n",
       "Type_Multiple Occupancy      0\n",
       "Type_Single Family           0\n",
       "Type_Townhouse               0\n",
       "Cooling_None                 0\n",
       "Cooling_Other                0\n",
       "Cooling_Refrigeration        0\n",
       "Cooling_Wall                 0\n",
       "HOA_Yes                      0\n",
       "year_built_binned            0\n",
       "dtype: int64"
      ]
     },
     "execution_count": 17,
     "metadata": {},
     "output_type": "execute_result"
    }
   ],
   "source": [
    "lm_data = continous_data.join(temp_df)\n",
    "lm_data.isna().sum().sort_values(ascending=False)"
   ]
  },
  {
   "cell_type": "code",
   "execution_count": 18,
   "metadata": {},
   "outputs": [
    {
     "data": {
      "text/html": [
       "<div>\n",
       "<style scoped>\n",
       "    .dataframe tbody tr th:only-of-type {\n",
       "        vertical-align: middle;\n",
       "    }\n",
       "\n",
       "    .dataframe tbody tr th {\n",
       "        vertical-align: top;\n",
       "    }\n",
       "\n",
       "    .dataframe thead th {\n",
       "        text-align: right;\n",
       "    }\n",
       "</style>\n",
       "<table border=\"1\" class=\"dataframe\">\n",
       "  <thead>\n",
       "    <tr style=\"text-align: right;\">\n",
       "      <th></th>\n",
       "      <th>lat</th>\n",
       "      <th>long</th>\n",
       "      <th>Year built</th>\n",
       "      <th>Total Price</th>\n",
       "      <th>Square Feet</th>\n",
       "      <th>Bedrooms</th>\n",
       "      <th>Bathrooms</th>\n",
       "      <th>Full bathrooms</th>\n",
       "      <th>Half bathrooms</th>\n",
       "      <th>median_nhv</th>\n",
       "      <th>...</th>\n",
       "      <th>Type_Multiple Occupancy</th>\n",
       "      <th>Type_Single Family</th>\n",
       "      <th>Type_Townhouse</th>\n",
       "      <th>Cooling_None</th>\n",
       "      <th>Cooling_Other</th>\n",
       "      <th>Cooling_Refrigeration</th>\n",
       "      <th>Cooling_Wall</th>\n",
       "      <th>HOA_Yes</th>\n",
       "      <th>Parking_Binned_Yes</th>\n",
       "      <th>New construction_ Yes</th>\n",
       "    </tr>\n",
       "  </thead>\n",
       "  <tbody>\n",
       "    <tr>\n",
       "      <th>0</th>\n",
       "      <td>41.798761</td>\n",
       "      <td>-87.588963</td>\n",
       "      <td>1910.0</td>\n",
       "      <td>249900.0</td>\n",
       "      <td>1000.0</td>\n",
       "      <td>2.0</td>\n",
       "      <td>2.0</td>\n",
       "      <td>2.0</td>\n",
       "      <td>0</td>\n",
       "      <td>396553</td>\n",
       "      <td>...</td>\n",
       "      <td>0</td>\n",
       "      <td>0</td>\n",
       "      <td>0</td>\n",
       "      <td>0</td>\n",
       "      <td>0</td>\n",
       "      <td>0</td>\n",
       "      <td>0</td>\n",
       "      <td>0</td>\n",
       "      <td>0</td>\n",
       "      <td>0</td>\n",
       "    </tr>\n",
       "    <tr>\n",
       "      <th>1</th>\n",
       "      <td>42.010591</td>\n",
       "      <td>-87.820290</td>\n",
       "      <td>1957.0</td>\n",
       "      <td>399000.0</td>\n",
       "      <td>1224.0</td>\n",
       "      <td>2.0</td>\n",
       "      <td>2.0</td>\n",
       "      <td>2.0</td>\n",
       "      <td>0</td>\n",
       "      <td>356353</td>\n",
       "      <td>...</td>\n",
       "      <td>0</td>\n",
       "      <td>1</td>\n",
       "      <td>0</td>\n",
       "      <td>0</td>\n",
       "      <td>0</td>\n",
       "      <td>0</td>\n",
       "      <td>0</td>\n",
       "      <td>1</td>\n",
       "      <td>1</td>\n",
       "      <td>0</td>\n",
       "    </tr>\n",
       "    <tr>\n",
       "      <th>2</th>\n",
       "      <td>42.006244</td>\n",
       "      <td>-87.672813</td>\n",
       "      <td>2007.0</td>\n",
       "      <td>169898.0</td>\n",
       "      <td>775.0</td>\n",
       "      <td>2.0</td>\n",
       "      <td>1.0</td>\n",
       "      <td>1.0</td>\n",
       "      <td>0</td>\n",
       "      <td>226102</td>\n",
       "      <td>...</td>\n",
       "      <td>0</td>\n",
       "      <td>0</td>\n",
       "      <td>0</td>\n",
       "      <td>0</td>\n",
       "      <td>0</td>\n",
       "      <td>0</td>\n",
       "      <td>0</td>\n",
       "      <td>0</td>\n",
       "      <td>0</td>\n",
       "      <td>0</td>\n",
       "    </tr>\n",
       "    <tr>\n",
       "      <th>3</th>\n",
       "      <td>41.863777</td>\n",
       "      <td>-87.624549</td>\n",
       "      <td>2008.0</td>\n",
       "      <td>489900.0</td>\n",
       "      <td>1273.0</td>\n",
       "      <td>2.0</td>\n",
       "      <td>2.0</td>\n",
       "      <td>2.0</td>\n",
       "      <td>0</td>\n",
       "      <td>376901</td>\n",
       "      <td>...</td>\n",
       "      <td>0</td>\n",
       "      <td>0</td>\n",
       "      <td>0</td>\n",
       "      <td>0</td>\n",
       "      <td>0</td>\n",
       "      <td>0</td>\n",
       "      <td>0</td>\n",
       "      <td>0</td>\n",
       "      <td>1</td>\n",
       "      <td>0</td>\n",
       "    </tr>\n",
       "    <tr>\n",
       "      <th>4</th>\n",
       "      <td>41.700669</td>\n",
       "      <td>-87.676906</td>\n",
       "      <td>1971.0</td>\n",
       "      <td>389000.0</td>\n",
       "      <td>2179.0</td>\n",
       "      <td>3.0</td>\n",
       "      <td>3.0</td>\n",
       "      <td>2.0</td>\n",
       "      <td>1</td>\n",
       "      <td>346385</td>\n",
       "      <td>...</td>\n",
       "      <td>0</td>\n",
       "      <td>1</td>\n",
       "      <td>0</td>\n",
       "      <td>0</td>\n",
       "      <td>0</td>\n",
       "      <td>0</td>\n",
       "      <td>0</td>\n",
       "      <td>1</td>\n",
       "      <td>1</td>\n",
       "      <td>0</td>\n",
       "    </tr>\n",
       "    <tr>\n",
       "      <th>...</th>\n",
       "      <td>...</td>\n",
       "      <td>...</td>\n",
       "      <td>...</td>\n",
       "      <td>...</td>\n",
       "      <td>...</td>\n",
       "      <td>...</td>\n",
       "      <td>...</td>\n",
       "      <td>...</td>\n",
       "      <td>...</td>\n",
       "      <td>...</td>\n",
       "      <td>...</td>\n",
       "      <td>...</td>\n",
       "      <td>...</td>\n",
       "      <td>...</td>\n",
       "      <td>...</td>\n",
       "      <td>...</td>\n",
       "      <td>...</td>\n",
       "      <td>...</td>\n",
       "      <td>...</td>\n",
       "      <td>...</td>\n",
       "      <td>...</td>\n",
       "    </tr>\n",
       "    <tr>\n",
       "      <th>2595</th>\n",
       "      <td>41.714684</td>\n",
       "      <td>-87.754065</td>\n",
       "      <td>2005.0</td>\n",
       "      <td>168999.0</td>\n",
       "      <td>1052.0</td>\n",
       "      <td>1.0</td>\n",
       "      <td>1.0</td>\n",
       "      <td>1.0</td>\n",
       "      <td>0</td>\n",
       "      <td>210544</td>\n",
       "      <td>...</td>\n",
       "      <td>0</td>\n",
       "      <td>0</td>\n",
       "      <td>0</td>\n",
       "      <td>0</td>\n",
       "      <td>0</td>\n",
       "      <td>0</td>\n",
       "      <td>0</td>\n",
       "      <td>0</td>\n",
       "      <td>1</td>\n",
       "      <td>0</td>\n",
       "    </tr>\n",
       "    <tr>\n",
       "      <th>2596</th>\n",
       "      <td>41.725069</td>\n",
       "      <td>-87.726728</td>\n",
       "      <td>1973.0</td>\n",
       "      <td>399900.0</td>\n",
       "      <td>3400.0</td>\n",
       "      <td>4.0</td>\n",
       "      <td>3.0</td>\n",
       "      <td>3.0</td>\n",
       "      <td>0</td>\n",
       "      <td>210544</td>\n",
       "      <td>...</td>\n",
       "      <td>0</td>\n",
       "      <td>1</td>\n",
       "      <td>0</td>\n",
       "      <td>0</td>\n",
       "      <td>0</td>\n",
       "      <td>0</td>\n",
       "      <td>0</td>\n",
       "      <td>1</td>\n",
       "      <td>1</td>\n",
       "      <td>0</td>\n",
       "    </tr>\n",
       "    <tr>\n",
       "      <th>2597</th>\n",
       "      <td>41.734146</td>\n",
       "      <td>-87.760216</td>\n",
       "      <td>1973.0</td>\n",
       "      <td>94500.0</td>\n",
       "      <td>852.0</td>\n",
       "      <td>2.0</td>\n",
       "      <td>1.0</td>\n",
       "      <td>1.0</td>\n",
       "      <td>0</td>\n",
       "      <td>210544</td>\n",
       "      <td>...</td>\n",
       "      <td>0</td>\n",
       "      <td>0</td>\n",
       "      <td>0</td>\n",
       "      <td>0</td>\n",
       "      <td>0</td>\n",
       "      <td>1</td>\n",
       "      <td>0</td>\n",
       "      <td>0</td>\n",
       "      <td>1</td>\n",
       "      <td>0</td>\n",
       "    </tr>\n",
       "    <tr>\n",
       "      <th>2598</th>\n",
       "      <td>41.714684</td>\n",
       "      <td>-87.754065</td>\n",
       "      <td>1949.0</td>\n",
       "      <td>249900.0</td>\n",
       "      <td>1343.0</td>\n",
       "      <td>3.0</td>\n",
       "      <td>2.0</td>\n",
       "      <td>1.0</td>\n",
       "      <td>1</td>\n",
       "      <td>210544</td>\n",
       "      <td>...</td>\n",
       "      <td>0</td>\n",
       "      <td>1</td>\n",
       "      <td>0</td>\n",
       "      <td>0</td>\n",
       "      <td>0</td>\n",
       "      <td>0</td>\n",
       "      <td>0</td>\n",
       "      <td>1</td>\n",
       "      <td>1</td>\n",
       "      <td>0</td>\n",
       "    </tr>\n",
       "    <tr>\n",
       "      <th>2599</th>\n",
       "      <td>41.702139</td>\n",
       "      <td>-87.720994</td>\n",
       "      <td>1983.0</td>\n",
       "      <td>124900.0</td>\n",
       "      <td>1000.0</td>\n",
       "      <td>2.0</td>\n",
       "      <td>2.0</td>\n",
       "      <td>2.0</td>\n",
       "      <td>0</td>\n",
       "      <td>210544</td>\n",
       "      <td>...</td>\n",
       "      <td>0</td>\n",
       "      <td>0</td>\n",
       "      <td>0</td>\n",
       "      <td>0</td>\n",
       "      <td>0</td>\n",
       "      <td>0</td>\n",
       "      <td>0</td>\n",
       "      <td>0</td>\n",
       "      <td>1</td>\n",
       "      <td>0</td>\n",
       "    </tr>\n",
       "  </tbody>\n",
       "</table>\n",
       "<p>2497 rows × 22 columns</p>\n",
       "</div>"
      ],
      "text/plain": [
       "            lat       long  Year built  Total Price  Square Feet  Bedrooms  \\\n",
       "0     41.798761 -87.588963      1910.0     249900.0       1000.0       2.0   \n",
       "1     42.010591 -87.820290      1957.0     399000.0       1224.0       2.0   \n",
       "2     42.006244 -87.672813      2007.0     169898.0        775.0       2.0   \n",
       "3     41.863777 -87.624549      2008.0     489900.0       1273.0       2.0   \n",
       "4     41.700669 -87.676906      1971.0     389000.0       2179.0       3.0   \n",
       "...         ...        ...         ...          ...          ...       ...   \n",
       "2595  41.714684 -87.754065      2005.0     168999.0       1052.0       1.0   \n",
       "2596  41.725069 -87.726728      1973.0     399900.0       3400.0       4.0   \n",
       "2597  41.734146 -87.760216      1973.0      94500.0        852.0       2.0   \n",
       "2598  41.714684 -87.754065      1949.0     249900.0       1343.0       3.0   \n",
       "2599  41.702139 -87.720994      1983.0     124900.0       1000.0       2.0   \n",
       "\n",
       "      Bathrooms  Full bathrooms  Half bathrooms  median_nhv  ...  \\\n",
       "0           2.0             2.0               0      396553  ...   \n",
       "1           2.0             2.0               0      356353  ...   \n",
       "2           1.0             1.0               0      226102  ...   \n",
       "3           2.0             2.0               0      376901  ...   \n",
       "4           3.0             2.0               1      346385  ...   \n",
       "...         ...             ...             ...         ...  ...   \n",
       "2595        1.0             1.0               0      210544  ...   \n",
       "2596        3.0             3.0               0      210544  ...   \n",
       "2597        1.0             1.0               0      210544  ...   \n",
       "2598        2.0             1.0               1      210544  ...   \n",
       "2599        2.0             2.0               0      210544  ...   \n",
       "\n",
       "     Type_Multiple Occupancy  Type_Single Family  Type_Townhouse  \\\n",
       "0                          0                   0               0   \n",
       "1                          0                   1               0   \n",
       "2                          0                   0               0   \n",
       "3                          0                   0               0   \n",
       "4                          0                   1               0   \n",
       "...                      ...                 ...             ...   \n",
       "2595                       0                   0               0   \n",
       "2596                       0                   1               0   \n",
       "2597                       0                   0               0   \n",
       "2598                       0                   1               0   \n",
       "2599                       0                   0               0   \n",
       "\n",
       "      Cooling_None  Cooling_Other  Cooling_Refrigeration  Cooling_Wall  \\\n",
       "0                0              0                      0             0   \n",
       "1                0              0                      0             0   \n",
       "2                0              0                      0             0   \n",
       "3                0              0                      0             0   \n",
       "4                0              0                      0             0   \n",
       "...            ...            ...                    ...           ...   \n",
       "2595             0              0                      0             0   \n",
       "2596             0              0                      0             0   \n",
       "2597             0              0                      1             0   \n",
       "2598             0              0                      0             0   \n",
       "2599             0              0                      0             0   \n",
       "\n",
       "      HOA_Yes  Parking_Binned_Yes  New construction_ Yes  \n",
       "0           0                   0                      0  \n",
       "1           1                   1                      0  \n",
       "2           0                   0                      0  \n",
       "3           0                   1                      0  \n",
       "4           1                   1                      0  \n",
       "...       ...                 ...                    ...  \n",
       "2595        0                   1                      0  \n",
       "2596        1                   1                      0  \n",
       "2597        0                   1                      0  \n",
       "2598        1                   1                      0  \n",
       "2599        0                   1                      0  \n",
       "\n",
       "[2497 rows x 22 columns]"
      ]
     },
     "execution_count": 18,
     "metadata": {},
     "output_type": "execute_result"
    }
   ],
   "source": [
    "lm_data"
   ]
  },
  {
   "cell_type": "code",
   "execution_count": 19,
   "metadata": {},
   "outputs": [],
   "source": [
    "lm_data.dropna(inplace=True)"
   ]
  },
  {
   "cell_type": "code",
   "execution_count": 20,
   "metadata": {
    "scrolled": false
   },
   "outputs": [
    {
     "data": {
      "text/html": [
       "<div>\n",
       "<style scoped>\n",
       "    .dataframe tbody tr th:only-of-type {\n",
       "        vertical-align: middle;\n",
       "    }\n",
       "\n",
       "    .dataframe tbody tr th {\n",
       "        vertical-align: top;\n",
       "    }\n",
       "\n",
       "    .dataframe thead th {\n",
       "        text-align: right;\n",
       "    }\n",
       "</style>\n",
       "<table border=\"1\" class=\"dataframe\">\n",
       "  <thead>\n",
       "    <tr style=\"text-align: right;\">\n",
       "      <th></th>\n",
       "      <th>Total Price</th>\n",
       "    </tr>\n",
       "  </thead>\n",
       "  <tbody>\n",
       "    <tr>\n",
       "      <th>Total Price</th>\n",
       "      <td>1.000000</td>\n",
       "    </tr>\n",
       "    <tr>\n",
       "      <th>Bathrooms</th>\n",
       "      <td>0.762376</td>\n",
       "    </tr>\n",
       "    <tr>\n",
       "      <th>Square Feet</th>\n",
       "      <td>0.755807</td>\n",
       "    </tr>\n",
       "    <tr>\n",
       "      <th>Full bathrooms</th>\n",
       "      <td>0.671727</td>\n",
       "    </tr>\n",
       "    <tr>\n",
       "      <th>Bedrooms</th>\n",
       "      <td>0.543302</td>\n",
       "    </tr>\n",
       "    <tr>\n",
       "      <th>Half bathrooms</th>\n",
       "      <td>0.436785</td>\n",
       "    </tr>\n",
       "    <tr>\n",
       "      <th>median_nhv</th>\n",
       "      <td>0.435114</td>\n",
       "    </tr>\n",
       "    <tr>\n",
       "      <th>Type_Single Family</th>\n",
       "      <td>0.278742</td>\n",
       "    </tr>\n",
       "    <tr>\n",
       "      <th>New construction_ Yes</th>\n",
       "      <td>0.251120</td>\n",
       "    </tr>\n",
       "    <tr>\n",
       "      <th>HOA_Yes</th>\n",
       "      <td>0.207290</td>\n",
       "    </tr>\n",
       "    <tr>\n",
       "      <th>Year built</th>\n",
       "      <td>0.198797</td>\n",
       "    </tr>\n",
       "    <tr>\n",
       "      <th>Parking_Binned_Yes</th>\n",
       "      <td>0.172562</td>\n",
       "    </tr>\n",
       "    <tr>\n",
       "      <th>lat</th>\n",
       "      <td>0.075087</td>\n",
       "    </tr>\n",
       "    <tr>\n",
       "      <th>long</th>\n",
       "      <td>0.033319</td>\n",
       "    </tr>\n",
       "    <tr>\n",
       "      <th>Type_Multiple Occupancy</th>\n",
       "      <td>0.023606</td>\n",
       "    </tr>\n",
       "    <tr>\n",
       "      <th>Type_Multi Family</th>\n",
       "      <td>-0.009436</td>\n",
       "    </tr>\n",
       "    <tr>\n",
       "      <th>Type_Townhouse</th>\n",
       "      <td>-0.009591</td>\n",
       "    </tr>\n",
       "    <tr>\n",
       "      <th>Cooling_Other</th>\n",
       "      <td>-0.071458</td>\n",
       "    </tr>\n",
       "    <tr>\n",
       "      <th>Cooling_Refrigeration</th>\n",
       "      <td>-0.075360</td>\n",
       "    </tr>\n",
       "    <tr>\n",
       "      <th>Cooling_Wall</th>\n",
       "      <td>-0.089333</td>\n",
       "    </tr>\n",
       "    <tr>\n",
       "      <th>Cooling_None</th>\n",
       "      <td>-0.198454</td>\n",
       "    </tr>\n",
       "  </tbody>\n",
       "</table>\n",
       "</div>"
      ],
      "text/plain": [
       "                         Total Price\n",
       "Total Price                 1.000000\n",
       "Bathrooms                   0.762376\n",
       "Square Feet                 0.755807\n",
       "Full bathrooms              0.671727\n",
       "Bedrooms                    0.543302\n",
       "Half bathrooms              0.436785\n",
       "median_nhv                  0.435114\n",
       "Type_Single Family          0.278742\n",
       "New construction_ Yes       0.251120\n",
       "HOA_Yes                     0.207290\n",
       "Year built                  0.198797\n",
       "Parking_Binned_Yes          0.172562\n",
       "lat                         0.075087\n",
       "long                        0.033319\n",
       "Type_Multiple Occupancy     0.023606\n",
       "Type_Multi Family          -0.009436\n",
       "Type_Townhouse             -0.009591\n",
       "Cooling_Other              -0.071458\n",
       "Cooling_Refrigeration      -0.075360\n",
       "Cooling_Wall               -0.089333\n",
       "Cooling_None               -0.198454"
      ]
     },
     "execution_count": 20,
     "metadata": {},
     "output_type": "execute_result"
    }
   ],
   "source": [
    "corrs = lm_data.corr()['Total Price'].sort_values(ascending=False).to_frame().head(50)\n",
    "corrs"
   ]
  },
  {
   "cell_type": "code",
   "execution_count": 21,
   "metadata": {},
   "outputs": [
    {
     "data": {
      "text/plain": [
       "['Bathrooms',\n",
       " 'Square Feet',\n",
       " 'Full bathrooms',\n",
       " 'Bedrooms',\n",
       " 'Half bathrooms',\n",
       " 'median_nhv',\n",
       " 'Type_Single Family',\n",
       " 'New construction_ Yes',\n",
       " 'HOA_Yes',\n",
       " 'Year built',\n",
       " 'Parking_Binned_Yes',\n",
       " 'lat',\n",
       " 'long',\n",
       " 'Type_Multiple Occupancy',\n",
       " 'Type_Multi Family',\n",
       " 'Type_Townhouse',\n",
       " 'Cooling_Other',\n",
       " 'Cooling_Refrigeration',\n",
       " 'Cooling_Wall',\n",
       " 'Cooling_None']"
      ]
     },
     "execution_count": 21,
     "metadata": {},
     "output_type": "execute_result"
    }
   ],
   "source": [
    "features_full = corrs.index.to_list()[1::]\n",
    "features_full"
   ]
  },
  {
   "cell_type": "code",
   "execution_count": 22,
   "metadata": {
    "scrolled": true
   },
   "outputs": [],
   "source": [
    "# sns.pairplot(test_fixed.iloc[:,0:9])"
   ]
  },
  {
   "cell_type": "code",
   "execution_count": 23,
   "metadata": {},
   "outputs": [],
   "source": [
    "# plt.scatter(test_fixed['Total Price'], np.log2((test_fixed['median_nhv'])))"
   ]
  },
  {
   "cell_type": "code",
   "execution_count": 24,
   "metadata": {},
   "outputs": [],
   "source": [
    "cont_features = ['Square Feet',\n",
    "                 'Bedrooms',\n",
    "                 'Bathrooms',\n",
    "                 'Full bathrooms',\n",
    "                 'Half bathrooms',\n",
    "                 'median_nhv',\n",
    "#                  'Bathrooms_adj',\n",
    "#                  'year_built_binned'\n",
    "                ]"
   ]
  },
  {
   "cell_type": "code",
   "execution_count": 109,
   "metadata": {
    "scrolled": false
   },
   "outputs": [
    {
     "data": {
      "text/html": [
       "<table class=\"simpletable\">\n",
       "<caption>OLS Regression Results</caption>\n",
       "<tr>\n",
       "  <th>Dep. Variable:</th>       <td>Total Price</td>   <th>  R-squared:         </th> <td>   0.712</td> \n",
       "</tr>\n",
       "<tr>\n",
       "  <th>Model:</th>                   <td>OLS</td>       <th>  Adj. R-squared:    </th> <td>   0.711</td> \n",
       "</tr>\n",
       "<tr>\n",
       "  <th>Method:</th>             <td>Least Squares</td>  <th>  F-statistic:       </th> <td>   616.7</td> \n",
       "</tr>\n",
       "<tr>\n",
       "  <th>Date:</th>             <td>Sun, 11 Oct 2020</td> <th>  Prob (F-statistic):</th>  <td>  0.00</td>  \n",
       "</tr>\n",
       "<tr>\n",
       "  <th>Time:</th>                 <td>11:18:25</td>     <th>  Log-Likelihood:    </th> <td> -20202.</td> \n",
       "</tr>\n",
       "<tr>\n",
       "  <th>No. Observations:</th>      <td>  1502</td>      <th>  AIC:               </th> <td>4.042e+04</td>\n",
       "</tr>\n",
       "<tr>\n",
       "  <th>Df Residuals:</th>          <td>  1495</td>      <th>  BIC:               </th> <td>4.046e+04</td>\n",
       "</tr>\n",
       "<tr>\n",
       "  <th>Df Model:</th>              <td>     6</td>      <th>                     </th>     <td> </td>    \n",
       "</tr>\n",
       "<tr>\n",
       "  <th>Covariance Type:</th>      <td>nonrobust</td>    <th>                     </th>     <td> </td>    \n",
       "</tr>\n",
       "</table>\n",
       "<table class=\"simpletable\">\n",
       "<tr>\n",
       "         <td></td>           <th>coef</th>     <th>std err</th>      <th>t</th>      <th>P>|t|</th>  <th>[0.025</th>    <th>0.975]</th>  \n",
       "</tr>\n",
       "<tr>\n",
       "  <th>const</th>          <td>-2.829e+05</td> <td> 1.83e+04</td> <td>  -15.447</td> <td> 0.000</td> <td>-3.19e+05</td> <td>-2.47e+05</td>\n",
       "</tr>\n",
       "<tr>\n",
       "  <th>Square Feet</th>    <td>   99.0845</td> <td>    6.216</td> <td>   15.941</td> <td> 0.000</td> <td>   86.892</td> <td>  111.277</td>\n",
       "</tr>\n",
       "<tr>\n",
       "  <th>Bedrooms</th>       <td> 1.122e+04</td> <td> 4782.360</td> <td>    2.347</td> <td> 0.019</td> <td> 1842.538</td> <td> 2.06e+04</td>\n",
       "</tr>\n",
       "<tr>\n",
       "  <th>Bathrooms</th>      <td> 8.933e+04</td> <td> 9956.479</td> <td>    8.972</td> <td> 0.000</td> <td> 6.98e+04</td> <td> 1.09e+05</td>\n",
       "</tr>\n",
       "<tr>\n",
       "  <th>Full bathrooms</th> <td> 7442.6937</td> <td> 7719.083</td> <td>    0.964</td> <td> 0.335</td> <td>-7698.690</td> <td> 2.26e+04</td>\n",
       "</tr>\n",
       "<tr>\n",
       "  <th>Half bathrooms</th> <td>-2.684e+04</td> <td> 1.14e+04</td> <td>   -2.354</td> <td> 0.019</td> <td>-4.92e+04</td> <td>-4477.076</td>\n",
       "</tr>\n",
       "<tr>\n",
       "  <th>median_nhv</th>     <td>    0.7365</td> <td>    0.040</td> <td>   18.251</td> <td> 0.000</td> <td>    0.657</td> <td>    0.816</td>\n",
       "</tr>\n",
       "</table>\n",
       "<table class=\"simpletable\">\n",
       "<tr>\n",
       "  <th>Omnibus:</th>       <td>423.636</td> <th>  Durbin-Watson:     </th> <td>   2.101</td>\n",
       "</tr>\n",
       "<tr>\n",
       "  <th>Prob(Omnibus):</th> <td> 0.000</td>  <th>  Jarque-Bera (JB):  </th> <td>2229.098</td>\n",
       "</tr>\n",
       "<tr>\n",
       "  <th>Skew:</th>          <td> 1.217</td>  <th>  Prob(JB):          </th> <td>    0.00</td>\n",
       "</tr>\n",
       "<tr>\n",
       "  <th>Kurtosis:</th>      <td> 8.449</td>  <th>  Cond. No.          </th> <td>1.67e+06</td>\n",
       "</tr>\n",
       "</table><br/><br/>Warnings:<br/>[1] Standard Errors assume that the covariance matrix of the errors is correctly specified.<br/>[2] The condition number is large, 1.67e+06. This might indicate that there are<br/>strong multicollinearity or other numerical problems."
      ],
      "text/plain": [
       "<class 'statsmodels.iolib.summary.Summary'>\n",
       "\"\"\"\n",
       "                            OLS Regression Results                            \n",
       "==============================================================================\n",
       "Dep. Variable:            Total Price   R-squared:                       0.712\n",
       "Model:                            OLS   Adj. R-squared:                  0.711\n",
       "Method:                 Least Squares   F-statistic:                     616.7\n",
       "Date:                Sun, 11 Oct 2020   Prob (F-statistic):               0.00\n",
       "Time:                        11:18:25   Log-Likelihood:                -20202.\n",
       "No. Observations:                1502   AIC:                         4.042e+04\n",
       "Df Residuals:                    1495   BIC:                         4.046e+04\n",
       "Df Model:                           6                                         \n",
       "Covariance Type:            nonrobust                                         \n",
       "==================================================================================\n",
       "                     coef    std err          t      P>|t|      [0.025      0.975]\n",
       "----------------------------------------------------------------------------------\n",
       "const          -2.829e+05   1.83e+04    -15.447      0.000   -3.19e+05   -2.47e+05\n",
       "Square Feet       99.0845      6.216     15.941      0.000      86.892     111.277\n",
       "Bedrooms        1.122e+04   4782.360      2.347      0.019    1842.538    2.06e+04\n",
       "Bathrooms       8.933e+04   9956.479      8.972      0.000    6.98e+04    1.09e+05\n",
       "Full bathrooms  7442.6937   7719.083      0.964      0.335   -7698.690    2.26e+04\n",
       "Half bathrooms -2.684e+04   1.14e+04     -2.354      0.019   -4.92e+04   -4477.076\n",
       "median_nhv         0.7365      0.040     18.251      0.000       0.657       0.816\n",
       "==============================================================================\n",
       "Omnibus:                      423.636   Durbin-Watson:                   2.101\n",
       "Prob(Omnibus):                  0.000   Jarque-Bera (JB):             2229.098\n",
       "Skew:                           1.217   Prob(JB):                         0.00\n",
       "Kurtosis:                       8.449   Cond. No.                     1.67e+06\n",
       "==============================================================================\n",
       "\n",
       "Warnings:\n",
       "[1] Standard Errors assume that the covariance matrix of the errors is correctly specified.\n",
       "[2] The condition number is large, 1.67e+06. This might indicate that there are\n",
       "strong multicollinearity or other numerical problems.\n",
       "\"\"\""
      ]
     },
     "execution_count": 109,
     "metadata": {},
     "output_type": "execute_result"
    }
   ],
   "source": [
    "import statsmodels.api as sm\n",
    "from sklearn.model_selection import train_test_split\n",
    "from sklearn.linear_model import LinearRegression\n",
    "\n",
    "\n",
    "X = lm_data[cont_features]\n",
    "y = lm_data['Total Price']\n",
    "\n",
    "X_train, X_test, y_train, y_test = train_test_split(X, y, test_size=0.3, random_state=1)\n",
    "\n",
    "x_mat = sm.add_constant(X_train)\n",
    "lr_m = sm.OLS(y_train, x_mat)\n",
    "\n",
    "results = lr_m.fit()\n",
    "results.summary()"
   ]
  },
  {
   "cell_type": "code",
   "execution_count": 110,
   "metadata": {
    "scrolled": true
   },
   "outputs": [
    {
     "name": "stdout",
     "output_type": "stream",
     "text": [
      "0.7122205973291675\n",
      "0.7171742114868445\n"
     ]
    }
   ],
   "source": [
    "from sklearn.model_selection import train_test_split\n",
    "from sklearn.linear_model import LinearRegression\n",
    "\n",
    "model = LinearRegression()\n",
    "model.fit(X_train, y_train)\n",
    "print(model.score(X_train, y_train))\n",
    "print(model.score(X_test, y_test))"
   ]
  },
  {
   "cell_type": "code",
   "execution_count": 111,
   "metadata": {},
   "outputs": [
    {
     "data": {
      "image/png": "[encoded data removed]",
      "text/plain": [
       "<Figure size 432x288 with 1 Axes>"
      ]
     },
     "metadata": {
      "needs_background": "light"
     },
     "output_type": "display_data"
    }
   ],
   "source": [
    "plt.hist(model.predict(X_test), bins=10);"
   ]
  },
  {
   "cell_type": "code",
   "execution_count": 112,
   "metadata": {},
   "outputs": [
    {
     "data": {
      "text/plain": [
       "118067.07695435637"
      ]
     },
     "execution_count": 112,
     "metadata": {},
     "output_type": "execute_result"
    }
   ],
   "source": [
    "preds = model.predict(X_test)\n",
    "actuals = y_test\n",
    "\n",
    "err = abs(preds - actuals)\n",
    "err.mean()\n"
   ]
  },
  {
   "cell_type": "code",
   "execution_count": 113,
   "metadata": {
    "scrolled": false
   },
   "outputs": [
    {
     "data": {
      "text/plain": [
       "Text(0, 0.5, 'Predicted')"
      ]
     },
     "execution_count": 113,
     "metadata": {},
     "output_type": "execute_result"
    },
    {
     "data": {
      "image/png": "[encoded data removed]",
      "text/plain": [
       "<Figure size 576x504 with 1 Axes>"
      ]
     },
     "metadata": {
      "needs_background": "light"
     },
     "output_type": "display_data"
    }
   ],
   "source": [
    "\n",
    "plt.figure(figsize=[8, 7])\n",
    "plt.title('Base Model')\n",
    "plt.scatter(model.predict(X_test), y_test, alpha=.5)\n",
    "plt.xlabel('Actual')\n",
    "plt.ylabel('Predicted')\n",
    "# plt.savefig('Residuals1.pdf')"
   ]
  },
  {
   "cell_type": "code",
   "execution_count": 114,
   "metadata": {},
   "outputs": [],
   "source": [
    "ridge_features = ['Bathrooms',\n",
    "                 'Square Feet',\n",
    "                 'Bedrooms',\n",
    "                 'median_nhv',\n",
    "                 'Type_Single Family',\n",
    "                 'New construction_ Yes',\n",
    "                 'HOA_Yes',\n",
    "                 'year_built_binned',\n",
    "                 'Parking_Binned_Yes',\n",
    "                 'lat',\n",
    "                 'long',\n",
    "                 'Cooling_None'\n",
    "                 ]"
   ]
  },
  {
   "cell_type": "code",
   "execution_count": 115,
   "metadata": {
    "scrolled": false
   },
   "outputs": [],
   "source": [
    "from sklearn.preprocessing import PolynomialFeatures, StandardScaler\n",
    "\n",
    "X = lm_data[ridge_features]\n",
    "y = lm_data['Total Price']\n",
    "poly_x = PolynomialFeatures(2).fit_transform(X)\n",
    "s = StandardScaler(with_mean=True)\n",
    "poly_scaled = s.fit_transform(poly_x)\n",
    "\n",
    "X_train, X_test, y_train, y_test = train_test_split(poly_scaled, y, test_size=0.30, random_state=10)\n"
   ]
  },
  {
   "cell_type": "code",
   "execution_count": 116,
   "metadata": {},
   "outputs": [
    {
     "name": "stdout",
     "output_type": "stream",
     "text": [
      "training score 0.7994183307323577\n",
      "testing score 0.7873472426242283\n"
     ]
    }
   ],
   "source": [
    "from sklearn.linear_model import RidgeCV, LassoCV\n",
    "\n",
    "m = RidgeCV()\n",
    "m.fit(X_train, y_train)\n",
    "print('training score',m.score(X_train, y_train))\n",
    "print('testing score', m.score(X_test, y_test))"
   ]
  },
  {
   "cell_type": "code",
   "execution_count": 117,
   "metadata": {},
   "outputs": [
    {
     "data": {
      "text/plain": [
       "93587.96557486917"
      ]
     },
     "execution_count": 117,
     "metadata": {},
     "output_type": "execute_result"
    }
   ],
   "source": [
    "preds = m.predict(X_test)\n",
    "actuals = y_test\n",
    "err = abs(preds - actuals)\n",
    "err.mean()\n"
   ]
  },
  {
   "cell_type": "code",
   "execution_count": 118,
   "metadata": {},
   "outputs": [
    {
     "data": {
      "text/plain": [
       "Text(0, 0.5, 'Predicted')"
      ]
     },
     "execution_count": 118,
     "metadata": {},
     "output_type": "execute_result"
    },
    {
     "data": {
      "image/png": "[encoded data removed]",
      "text/plain": [
       "<Figure size 576x504 with 1 Axes>"
      ]
     },
     "metadata": {
      "needs_background": "light"
     },
     "output_type": "display_data"
    }
   ],
   "source": [
    "plt.figure(figsize=[8, 7])\n",
    "plt.title('With Polynomials')\n",
    "plt.scatter(y_test, m.predict(X_test),color='salmon', alpha=.3)\n",
    "plt.xlabel('Actual')\n",
    "plt.ylabel('Predicted')\n",
    "# plt.axis('equal');\n",
    "# plt.savefig('Residuals2.pdf')"
   ]
  },
  {
   "cell_type": "code",
   "execution_count": 119,
   "metadata": {
    "scrolled": true
   },
   "outputs": [
    {
     "data": {
      "image/png": "[encoded data removed]",
      "text/plain": [
       "<Figure size 432x288 with 1 Axes>"
      ]
     },
     "metadata": {
      "needs_background": "light"
     },
     "output_type": "display_data"
    }
   ],
   "source": [
    "plt.hist(preds, bins=10);"
   ]
  },
  {
   "cell_type": "markdown",
   "metadata": {},
   "source": [
    "### This is for training a Random Forest Regressor\n",
    "#### going to format the addresses so we can get gps coordinates for properties"
   ]
  },
  {
   "cell_type": "code",
   "execution_count": 120,
   "metadata": {},
   "outputs": [
    {
     "data": {
      "text/plain": [
       "0               5329 S Harper Ave #2, Chicago, IL 60615\n",
       "1                   7144 N Ozark Ave, Chicago, IL 60631\n",
       "2          1673 W Farwell Ave APT 1S, Chicago, IL 60626\n",
       "3       1400 S Michigan Ave APT 2203, Chicago, IL 60605\n",
       "4                 10606 S Leavitt St, Chicago, IL 60643\n",
       "                             ...                       \n",
       "2595        9440 S 51st Ave APT 502, Oak Lawn, IL 60453\n",
       "2596              9246 S Keeler Ave, Oak Lawn, IL 60453\n",
       "2597         4929 W 87th St APT 3NW, Oak Lawn, IL 60453\n",
       "2598                 9117 S 53rd Ct, Oak Lawn, IL 60453\n",
       "2599         4003 W 105th St APT 3W, Oak Lawn, IL 60453\n",
       "Name: Address, Length: 2497, dtype: object"
      ]
     },
     "execution_count": 120,
     "metadata": {},
     "output_type": "execute_result"
    }
   ],
   "source": [
    "df.Address"
   ]
  },
  {
   "cell_type": "code",
   "execution_count": 121,
   "metadata": {},
   "outputs": [],
   "source": [
    "# X_train, X_test, y_train, y_test = train_test_split(X, y, test_size=0.30, random_state=1)\n",
    "\n",
    "\n",
    "# model = LinearRegression()\n",
    "# model.fit(X_train, y_train)\n",
    "# model.score(X_test, y_test)"
   ]
  },
  {
   "cell_type": "code",
   "execution_count": 122,
   "metadata": {},
   "outputs": [],
   "source": [
    "tree_df = df.copy()"
   ]
  },
  {
   "cell_type": "code",
   "execution_count": 123,
   "metadata": {},
   "outputs": [
    {
     "data": {
      "text/plain": [
       "lat                    float64\n",
       "long                   float64\n",
       "Type                    object\n",
       "Year built             float64\n",
       "Heating                 object\n",
       "Cooling                 object\n",
       "Parking                 object\n",
       "HOA                     object\n",
       "Total Price            float64\n",
       "Address                 object\n",
       "Square Feet            float64\n",
       "New construction        object\n",
       "Bedrooms               float64\n",
       "Bathrooms              float64\n",
       "Full bathrooms         float64\n",
       "neighborhood_stats      object\n",
       "URL                     object\n",
       "Half bathrooms           int64\n",
       "zip                     object\n",
       "median_nhv               int64\n",
       "Parking_Binned          object\n",
       "address_clean           object\n",
       "year_built_binned     category\n",
       "dtype: object"
      ]
     },
     "execution_count": 123,
     "metadata": {},
     "output_type": "execute_result"
    }
   ],
   "source": [
    "tree_df.dtypes"
   ]
  },
  {
   "cell_type": "code",
   "execution_count": 124,
   "metadata": {},
   "outputs": [],
   "source": [
    "tree_cont = tree_df.select_dtypes(['float', 'int', 'category'])\n",
    "tree_cat = tree_df.select_dtypes(['object'])"
   ]
  },
  {
   "cell_type": "code",
   "execution_count": 125,
   "metadata": {},
   "outputs": [],
   "source": [
    "# tree_df['year_built_binned']\n",
    "tree_df_cat = tree_cat[['Type','Cooling','HOA','Parking_Binned','New construction']]\n",
    "tree_df_cat_enc = pd.get_dummies(tree_df_cat, drop_first=True)"
   ]
  },
  {
   "cell_type": "code",
   "execution_count": 126,
   "metadata": {},
   "outputs": [
    {
     "data": {
      "text/html": [
       "<div>\n",
       "<style scoped>\n",
       "    .dataframe tbody tr th:only-of-type {\n",
       "        vertical-align: middle;\n",
       "    }\n",
       "\n",
       "    .dataframe tbody tr th {\n",
       "        vertical-align: top;\n",
       "    }\n",
       "\n",
       "    .dataframe thead th {\n",
       "        text-align: right;\n",
       "    }\n",
       "</style>\n",
       "<table border=\"1\" class=\"dataframe\">\n",
       "  <thead>\n",
       "    <tr style=\"text-align: right;\">\n",
       "      <th></th>\n",
       "      <th>lat</th>\n",
       "      <th>long</th>\n",
       "      <th>Year built</th>\n",
       "      <th>Total Price</th>\n",
       "      <th>Square Feet</th>\n",
       "      <th>Bedrooms</th>\n",
       "      <th>Bathrooms</th>\n",
       "      <th>Full bathrooms</th>\n",
       "      <th>Half bathrooms</th>\n",
       "      <th>median_nhv</th>\n",
       "      <th>...</th>\n",
       "      <th>Type_Multiple Occupancy</th>\n",
       "      <th>Type_Single Family</th>\n",
       "      <th>Type_Townhouse</th>\n",
       "      <th>Cooling_None</th>\n",
       "      <th>Cooling_Other</th>\n",
       "      <th>Cooling_Refrigeration</th>\n",
       "      <th>Cooling_Wall</th>\n",
       "      <th>HOA_Yes</th>\n",
       "      <th>Parking_Binned_Yes</th>\n",
       "      <th>New construction_ Yes</th>\n",
       "    </tr>\n",
       "  </thead>\n",
       "  <tbody>\n",
       "    <tr>\n",
       "      <th>0</th>\n",
       "      <td>41.798761</td>\n",
       "      <td>-87.588963</td>\n",
       "      <td>1910.0</td>\n",
       "      <td>249900.0</td>\n",
       "      <td>1000.0</td>\n",
       "      <td>2.0</td>\n",
       "      <td>2.0</td>\n",
       "      <td>2.0</td>\n",
       "      <td>0</td>\n",
       "      <td>396553</td>\n",
       "      <td>...</td>\n",
       "      <td>0</td>\n",
       "      <td>0</td>\n",
       "      <td>0</td>\n",
       "      <td>0</td>\n",
       "      <td>0</td>\n",
       "      <td>0</td>\n",
       "      <td>0</td>\n",
       "      <td>0</td>\n",
       "      <td>0</td>\n",
       "      <td>0</td>\n",
       "    </tr>\n",
       "    <tr>\n",
       "      <th>1</th>\n",
       "      <td>42.010591</td>\n",
       "      <td>-87.820290</td>\n",
       "      <td>1957.0</td>\n",
       "      <td>399000.0</td>\n",
       "      <td>1224.0</td>\n",
       "      <td>2.0</td>\n",
       "      <td>2.0</td>\n",
       "      <td>2.0</td>\n",
       "      <td>0</td>\n",
       "      <td>356353</td>\n",
       "      <td>...</td>\n",
       "      <td>0</td>\n",
       "      <td>1</td>\n",
       "      <td>0</td>\n",
       "      <td>0</td>\n",
       "      <td>0</td>\n",
       "      <td>0</td>\n",
       "      <td>0</td>\n",
       "      <td>1</td>\n",
       "      <td>1</td>\n",
       "      <td>0</td>\n",
       "    </tr>\n",
       "    <tr>\n",
       "      <th>2</th>\n",
       "      <td>42.006244</td>\n",
       "      <td>-87.672813</td>\n",
       "      <td>2007.0</td>\n",
       "      <td>169898.0</td>\n",
       "      <td>775.0</td>\n",
       "      <td>2.0</td>\n",
       "      <td>1.0</td>\n",
       "      <td>1.0</td>\n",
       "      <td>0</td>\n",
       "      <td>226102</td>\n",
       "      <td>...</td>\n",
       "      <td>0</td>\n",
       "      <td>0</td>\n",
       "      <td>0</td>\n",
       "      <td>0</td>\n",
       "      <td>0</td>\n",
       "      <td>0</td>\n",
       "      <td>0</td>\n",
       "      <td>0</td>\n",
       "      <td>0</td>\n",
       "      <td>0</td>\n",
       "    </tr>\n",
       "    <tr>\n",
       "      <th>3</th>\n",
       "      <td>41.863777</td>\n",
       "      <td>-87.624549</td>\n",
       "      <td>2008.0</td>\n",
       "      <td>489900.0</td>\n",
       "      <td>1273.0</td>\n",
       "      <td>2.0</td>\n",
       "      <td>2.0</td>\n",
       "      <td>2.0</td>\n",
       "      <td>0</td>\n",
       "      <td>376901</td>\n",
       "      <td>...</td>\n",
       "      <td>0</td>\n",
       "      <td>0</td>\n",
       "      <td>0</td>\n",
       "      <td>0</td>\n",
       "      <td>0</td>\n",
       "      <td>0</td>\n",
       "      <td>0</td>\n",
       "      <td>0</td>\n",
       "      <td>1</td>\n",
       "      <td>0</td>\n",
       "    </tr>\n",
       "    <tr>\n",
       "      <th>4</th>\n",
       "      <td>41.700669</td>\n",
       "      <td>-87.676906</td>\n",
       "      <td>1971.0</td>\n",
       "      <td>389000.0</td>\n",
       "      <td>2179.0</td>\n",
       "      <td>3.0</td>\n",
       "      <td>3.0</td>\n",
       "      <td>2.0</td>\n",
       "      <td>1</td>\n",
       "      <td>346385</td>\n",
       "      <td>...</td>\n",
       "      <td>0</td>\n",
       "      <td>1</td>\n",
       "      <td>0</td>\n",
       "      <td>0</td>\n",
       "      <td>0</td>\n",
       "      <td>0</td>\n",
       "      <td>0</td>\n",
       "      <td>1</td>\n",
       "      <td>1</td>\n",
       "      <td>0</td>\n",
       "    </tr>\n",
       "  </tbody>\n",
       "</table>\n",
       "<p>5 rows × 22 columns</p>\n",
       "</div>"
      ],
      "text/plain": [
       "         lat       long  Year built  Total Price  Square Feet  Bedrooms  \\\n",
       "0  41.798761 -87.588963      1910.0     249900.0       1000.0       2.0   \n",
       "1  42.010591 -87.820290      1957.0     399000.0       1224.0       2.0   \n",
       "2  42.006244 -87.672813      2007.0     169898.0        775.0       2.0   \n",
       "3  41.863777 -87.624549      2008.0     489900.0       1273.0       2.0   \n",
       "4  41.700669 -87.676906      1971.0     389000.0       2179.0       3.0   \n",
       "\n",
       "   Bathrooms  Full bathrooms  Half bathrooms  median_nhv  ...  \\\n",
       "0        2.0             2.0               0      396553  ...   \n",
       "1        2.0             2.0               0      356353  ...   \n",
       "2        1.0             1.0               0      226102  ...   \n",
       "3        2.0             2.0               0      376901  ...   \n",
       "4        3.0             2.0               1      346385  ...   \n",
       "\n",
       "  Type_Multiple Occupancy  Type_Single Family  Type_Townhouse  Cooling_None  \\\n",
       "0                       0                   0               0             0   \n",
       "1                       0                   1               0             0   \n",
       "2                       0                   0               0             0   \n",
       "3                       0                   0               0             0   \n",
       "4                       0                   1               0             0   \n",
       "\n",
       "   Cooling_Other  Cooling_Refrigeration  Cooling_Wall  HOA_Yes  \\\n",
       "0              0                      0             0        0   \n",
       "1              0                      0             0        1   \n",
       "2              0                      0             0        0   \n",
       "3              0                      0             0        0   \n",
       "4              0                      0             0        1   \n",
       "\n",
       "   Parking_Binned_Yes  New construction_ Yes  \n",
       "0                   0                      0  \n",
       "1                   1                      0  \n",
       "2                   0                      0  \n",
       "3                   1                      0  \n",
       "4                   1                      0  \n",
       "\n",
       "[5 rows x 22 columns]"
      ]
     },
     "execution_count": 126,
     "metadata": {},
     "output_type": "execute_result"
    }
   ],
   "source": [
    "model_data = tree_cont.join(tree_df_cat_enc).dropna().copy()\n",
    "model_data.head(5)"
   ]
  },
  {
   "cell_type": "code",
   "execution_count": 127,
   "metadata": {},
   "outputs": [],
   "source": [
    "tree_features = ['Bathrooms',\n",
    "                 'Square Feet',\n",
    "                 'Bedrooms',\n",
    "                 'median_nhv',\n",
    "                 'Type_Single Family',\n",
    "                 'New construction_ Yes',\n",
    "                 'HOA_Yes',\n",
    "                 'year_built_binned',\n",
    "                 'Parking_Binned_Yes',\n",
    "                 'lat',\n",
    "                 'long',\n",
    "                 'Cooling_None'\n",
    "                 ]"
   ]
  },
  {
   "cell_type": "code",
   "execution_count": 128,
   "metadata": {},
   "outputs": [],
   "source": [
    "X = model_data[tree_features]\n",
    "y = model_data['Total Price']\n",
    "X_train, X_test, y_train, y_test = train_test_split(X, y, test_size=0.30, random_state=10)"
   ]
  },
  {
   "cell_type": "code",
   "execution_count": 129,
   "metadata": {},
   "outputs": [
    {
     "data": {
      "text/plain": [
       "RandomForestRegressor(max_depth=5, random_state=1)"
      ]
     },
     "execution_count": 129,
     "metadata": {},
     "output_type": "execute_result"
    }
   ],
   "source": [
    "from sklearn.ensemble import RandomForestRegressor\n",
    "\n",
    "regr = RandomForestRegressor(max_depth=5, random_state=1)\n",
    "regr.fit(X_train, y_train)"
   ]
  },
  {
   "cell_type": "code",
   "execution_count": 130,
   "metadata": {},
   "outputs": [
    {
     "data": {
      "text/plain": [
       "0.8422950286110202"
      ]
     },
     "execution_count": 130,
     "metadata": {},
     "output_type": "execute_result"
    }
   ],
   "source": [
    "regr.score(X_train, y_train)"
   ]
  },
  {
   "cell_type": "code",
   "execution_count": 131,
   "metadata": {},
   "outputs": [
    {
     "data": {
      "text/plain": [
       "0.7756876137512295"
      ]
     },
     "execution_count": 131,
     "metadata": {},
     "output_type": "execute_result"
    }
   ],
   "source": [
    "regr.score(X_test, y_test)"
   ]
  },
  {
   "cell_type": "code",
   "execution_count": 132,
   "metadata": {},
   "outputs": [
    {
     "data": {
      "text/plain": [
       "98654.68936654854"
      ]
     },
     "execution_count": 132,
     "metadata": {},
     "output_type": "execute_result"
    }
   ],
   "source": [
    "preds = regr.predict(X_test)\n",
    "actuals = y_test\n",
    "err = abs(preds - actuals)\n",
    "err.mean()"
   ]
  },
  {
   "cell_type": "code",
   "execution_count": 133,
   "metadata": {},
   "outputs": [
    {
     "data": {
      "text/plain": [
       "Text(0, 0.5, 'Predicted')"
      ]
     },
     "execution_count": 133,
     "metadata": {},
     "output_type": "execute_result"
    },
    {
     "data": {
      "image/png": "[encoded data removed]",
      "text/plain": [
       "<Figure size 576x504 with 1 Axes>"
      ]
     },
     "metadata": {
      "needs_background": "light"
     },
     "output_type": "display_data"
    }
   ],
   "source": [
    "plt.figure(figsize=[8, 7])\n",
    "plt.title('RFR')\n",
    "plt.scatter(y_test, regr.predict(X_test),color='firebrick', alpha=.3)\n",
    "plt.xlabel('Actual')\n",
    "plt.ylabel('Predicted')"
   ]
  },
  {
   "cell_type": "code",
   "execution_count": 652,
   "metadata": {},
   "outputs": [
    {
     "name": "stdout",
     "output_type": "stream",
     "text": [
      "Random Forest score: 0.8228771616631783\n",
      "Random Forest (best parameters) {'max_depth': 10, 'max_features': 'sqrt', 'min_samples_leaf': 1, 'min_samples_split': 5, 'n_estimators': 100}\n"
     ]
    }
   ],
   "source": [
    "from sklearn.model_selection import GridSearchCV\n",
    "from sklearn.model_selection import KFold, cross_val_score\n",
    "\n",
    "rfr = RandomForestRegressor(random_state=1)\n",
    "\n",
    "max_depth_range = range(1, 11)\n",
    "leaf_range = [1, 2, 5, 10]\n",
    "n_estimators = [100]\n",
    "max_features = ['auto', 'sqrt']\n",
    "min_samples_split = [5, 10, 15, 100]\n",
    "\n",
    "\n",
    "params = dict(max_depth=max_depth_range,\n",
    "              min_samples_leaf=leaf_range, \n",
    "              min_samples_split=min_samples_split,\n",
    "              n_estimators=n_estimators,\n",
    "              max_features=max_features)\n",
    "\n",
    "rf_grid = GridSearchCV(rfr,\n",
    "                       params,\n",
    "                       cv=5,\n",
    "                       return_train_score=True,\n",
    "                       n_jobs=-1)\n",
    "\n",
    "rf_grid.fit(X_train, y_train)\n",
    "print(\"Random Forest score:\", rf_grid.best_score_)\n",
    "print(\"Random Forest (best parameters)\", rf_grid.best_params_)"
   ]
  },
  {
   "cell_type": "code",
   "execution_count": 134,
   "metadata": {},
   "outputs": [
    {
     "name": "stdout",
     "output_type": "stream",
     "text": [
      "testing score 0.8352456037773759\n"
     ]
    }
   ],
   "source": [
    "rfr_final = RandomForestRegressor(max_depth=10,\n",
    "                                  min_samples_leaf=1,\n",
    "                                  n_estimators=100,\n",
    "                                  min_samples_split=5,\n",
    "                                  max_features='sqrt')\n",
    "\n",
    "rfr_final.fit(X_train, y_train)\n",
    "# print('training score', rfr_final.score(X_train, y_train))\n",
    "print('testing score', rfr_final.score(X_test, y_test))\n"
   ]
  },
  {
   "cell_type": "code",
   "execution_count": 135,
   "metadata": {
    "scrolled": true
   },
   "outputs": [
    {
     "data": {
      "image/png": "[encoded data removed]",
      "text/plain": [
       "<Figure size 720x432 with 1 Axes>"
      ]
     },
     "metadata": {
      "needs_background": "light"
     },
     "output_type": "display_data"
    }
   ],
   "source": [
    "features = pd.DataFrame()\n",
    "features['feature'] = X_train.columns\n",
    "features['importance'] = rfr_final.feature_importances_\n",
    "features.sort_values(by=['importance'], ascending=False, inplace=True)\n",
    "features.set_index('feature', inplace=True)\n",
    "\n",
    "features.plot(kind='barh', figsize=(10, 6))\n",
    "plt.savefig('feature_importances.pdf')"
   ]
  },
  {
   "cell_type": "code",
   "execution_count": 136,
   "metadata": {},
   "outputs": [
    {
     "data": {
      "text/plain": [
       "79846.61336204215"
      ]
     },
     "execution_count": 136,
     "metadata": {},
     "output_type": "execute_result"
    }
   ],
   "source": [
    "preds = rfr_final.predict(X_test)\n",
    "actuals = y_test\n",
    "\n",
    "err = abs(preds - actuals)\n",
    "err.mean()\n"
   ]
  },
  {
   "cell_type": "code",
   "execution_count": 137,
   "metadata": {},
   "outputs": [
    {
     "data": {
      "text/plain": [
       "(-3250.0, 1938250.0, 50591.54259359508, 1520964.6602034485)"
      ]
     },
     "execution_count": 137,
     "metadata": {},
     "output_type": "execute_result"
    },
    {
     "data": {
      "image/png": "[encoded data removed]",
      "text/plain": [
       "<Figure size 576x504 with 1 Axes>"
      ]
     },
     "metadata": {
      "needs_background": "light"
     },
     "output_type": "display_data"
    }
   ],
   "source": [
    "plt.figure(figsize=[8, 7])\n",
    "plt.title('RFR')\n",
    "plt.scatter(y_test, rfr_final.predict(X_test),color='firebrick', alpha=.3)\n",
    "plt.xlabel('Actual')\n",
    "plt.ylabel('Predicted')\n",
    "plt.axis('equal')"
   ]
  },
  {
   "cell_type": "code",
   "execution_count": 138,
   "metadata": {},
   "outputs": [
    {
     "data": {
      "image/png": "[encoded data removed]",
      "text/plain": [
       "<Figure size 432x288 with 1 Axes>"
      ]
     },
     "metadata": {
      "needs_background": "light"
     },
     "output_type": "display_data"
    }
   ],
   "source": [
    "plt.hist(rfr_final.predict(X_test), bins=10);"
   ]
  },
  {
   "cell_type": "code",
   "execution_count": null,
   "metadata": {},
   "outputs": [],
   "source": []
  }
 ],
 "metadata": {
  "kernelspec": {
   "display_name": "Python 3",
   "language": "python",
   "name": "python3"
  },
  "language_info": {
   "codemirror_mode": {
    "name": "ipython",
    "version": 3
   },
   "file_extension": ".py",
   "mimetype": "text/x-python",
   "name": "python",
   "nbconvert_exporter": "python",
   "pygments_lexer": "ipython3",
   "version": "3.7.4"
  }
 },
 "nbformat": 4,
 "nbformat_minor": 4
}
